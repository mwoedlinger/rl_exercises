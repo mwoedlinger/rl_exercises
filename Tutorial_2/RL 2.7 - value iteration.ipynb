{
 "cells": [
  {
   "cell_type": "markdown",
   "id": "3cf03a1f",
   "metadata": {},
   "source": [
    "### Value iteration"
   ]
  },
  {
   "cell_type": "markdown",
   "id": "c7d2653a",
   "metadata": {},
   "source": [
    "Implement value iteration and use it to estimate 𝜋∗\n",
    "for the grid world\n",
    "in Exercise gw/simple."
   ]
  },
  {
   "cell_type": "code",
   "execution_count": 2,
   "id": "b01588b5",
   "metadata": {},
   "outputs": [],
   "source": [
    "import numpy as np\n",
    "from matplotlib import pyplot as plt"
   ]
  },
  {
   "cell_type": "code",
   "execution_count": 3,
   "id": "cca66263",
   "metadata": {},
   "outputs": [],
   "source": [
    "def softmax(x, axis=0):\n",
    "    \"\"\"Compute softmax values for each sets of scores in x.\"\"\"\n",
    "    e_x = np.exp(x - np.max(x))\n",
    "    return e_x / e_x.sum(axis=axis)"
   ]
  },
  {
   "cell_type": "code",
   "execution_count": 49,
   "id": "90fc9016",
   "metadata": {},
   "outputs": [],
   "source": [
    "class Enviroment:\n",
    "    \n",
    "    def __init__(self, w, h):\n",
    "        self.w = w\n",
    "        self.h = h\n",
    "        \n",
    "        self.R = -np.ones((w, h))\n",
    "        self.actions = [\"up\", \"down\", \"left\", \"right\"]\n",
    "        \n",
    "        self.states = [(x, y) for x in range(self.w) for y in range(self.h)]\n",
    "        self.terminal = [(0,0), (w-1, h-1)]\n",
    "                    \n",
    "    def sprime(self, s:np.array, a:int) -> tuple:\n",
    "        # actions: (0,1,2,3) = (up, down, left, right)\n",
    "        actions = {\n",
    "            0: np.array((-1, 0)),\n",
    "            1: np.array((1, 0)),\n",
    "            2: np.array((0, -1)),\n",
    "            3: np.array((0, 1))\n",
    "        }\n",
    "        s_prime = s + actions[a]\n",
    "        s_prime[0] = max(min(s_prime[0], self.w-1), 0)\n",
    "        s_prime[1] = max(min(s_prime[1], self.h-1), 0)\n",
    "        \n",
    "        return tuple(s_prime)\n",
    "\n",
    "    def reward(self, s:np.array, a: int) -> float:\n",
    "        s_prime = self.sprime(s, a)\n",
    "        reward = self.R[s_prime[0], s_prime[1]]\n",
    "\n",
    "        return reward\n",
    "\n",
    "    def cumulative_reward(self, s, π, γ=0.9, max_steps=1):\n",
    "        if s in self.terminal:\n",
    "            return 0\n",
    "        reward = 0\n",
    "        \n",
    "        for a in range(π.shape[0]):\n",
    "            sprime = self.sprime(s, a)\n",
    "            \n",
    "            if max_steps > 1:\n",
    "                reward += π[a, s[0], s[1]]*(self.reward(s, a) + γ*self.cumulative_reward(sprime, π, γ, max_steps-1))\n",
    "            else:\n",
    "                reward += π[a, s[0], s[1]]*self.reward(s, a)\n",
    "        return reward\n",
    "\n",
    "class Agent:\n",
    "    \n",
    "    def __init__(self, w, h):\n",
    "        self.w = w\n",
    "        self.h = h\n",
    "        self.actions = [\"up\", \"down\", \"left\", \"right\"]\n",
    "        \n",
    "        self.terminal = [(0,0), (w-1, h-1)]\n",
    "        \n",
    "        self._π = softmax(np.ones((4, w, h))); # equiprob policy\n",
    "        self._V = np.random.rand(self.w, self.h)      \n",
    "        for t in self.terminal:\n",
    "            self._V[t] = 0\n",
    "    \n",
    "    def π(self, a, s):\n",
    "        return self._π[a, s[0], s[1]]\n",
    "    \n",
    "    def V(self, s):\n",
    "        return self._V[s]\n",
    "        \n",
    "    def iterative_policy_evaluation(self, env, γ=1.0, θ=0.1, max_steps=1000):\n",
    "\n",
    "        Δ = θ+1\n",
    "        steps = 0\n",
    "        while Δ > θ:\n",
    "            Δ = 0\n",
    "            for s in env.states:\n",
    "                if s in self.terminal:\n",
    "                    continue\n",
    "\n",
    "                v = self.V(s)\n",
    "                v_new = 0\n",
    "\n",
    "                # The additional sum over s', r can be ignored in our case because our enviroment is deterministic\n",
    "                # i.e. for a given state s and action a the outcome is s'(a) and r(s')\n",
    "                for a in range(len(self.actions)):\n",
    "                    sprime = env.sprime(s, a)\n",
    "                    v_new += self.π(a, s)*(env.reward(s, a) + γ*self.V(sprime))\n",
    "\n",
    "                self._V[s] = v_new\n",
    "                Δ = max(Δ, abs(v - self.V(s)))\n",
    "                    \n",
    "            steps += 1\n",
    "            if steps > max_steps:\n",
    "                print(f'Reached max step. {Δ=}.')\n",
    "                return self._V\n",
    "            \n",
    "        print(f'{steps=}')\n",
    "        return self._V\n",
    "    \n",
    "    def policy_iteration(self, env, γ=1.0, θ=0.1, max_steps=1000):\n",
    "        policy_stable = True\n",
    "        \n",
    "        steps = 0\n",
    "        while policy_stable:\n",
    "            steps += 1\n",
    "            for s in env.states:\n",
    "                π_old = self._π[:, s[0], s[1]]\n",
    "                π_new = np.zeros(len(self.actions))\n",
    "\n",
    "                optimal_reward = -np.inf\n",
    "                for a in range(len(self.actions)):\n",
    "                    sprime = env.sprime(s, a)\n",
    "                    a_exp_reward = (env.reward(s, a) + γ*self.V(sprime))\n",
    "\n",
    "                    if a_exp_reward > optimal_reward:\n",
    "                        optimal_reward = a_exp_reward\n",
    "                        π_new = np.zeros(len(self.actions))\n",
    "                        π_new[a] = 1\n",
    "\n",
    "                if (π_new != π_old).any():\n",
    "                    policy_stable = False\n",
    "                self._π[:, s[0], s[1]] = π_new\n",
    "\n",
    "            if policy_stable:\n",
    "                print(f'policy iteration steps = {steps}')\n",
    "                return self._V, self._π\n",
    "            else:\n",
    "                self.iterative_policy_evaluation(env=env, γ=γ, θ=θ, max_steps=max_steps)\n",
    "                policy_stable = True\n",
    "                \n",
    "    def value_iteration(self, env, γ=1.0, θ=0.1, max_steps=1000):\n",
    "\n",
    "        Δ = θ+1\n",
    "        steps = 0\n",
    "        while Δ > θ:\n",
    "            Δ = 0\n",
    "            for s in env.states:\n",
    "                if s in self.terminal:\n",
    "                    continue\n",
    "\n",
    "                v = self.V(s)\n",
    "                v_new = -np.inf                \n",
    "                \n",
    "                # The additional sum over s', r can be ignored in our case because our enviroment is deterministic\n",
    "                # i.e. for a given state s and action a the outcome is s'(a) and r(s')\n",
    "                for a in range(len(self.actions)):\n",
    "                    sprime = env.sprime(s, a)\n",
    "                    v_new = max(v_new, (env.reward(s, a) + γ*self.V(sprime)))\n",
    "\n",
    "                self._V[s] = v_new\n",
    "                Δ = max(Δ, abs(v - self.V(s)))\n",
    "                    \n",
    "            steps += 1\n",
    "            if steps > max_steps:\n",
    "                print(f'Reached max step. {Δ=}.')\n",
    "                return self._V\n",
    "                        \n",
    "        # Compute optimal policy\n",
    "        for s in env.states:\n",
    "            π_new = np.zeros(len(self.actions))\n",
    "\n",
    "            optimal_reward = -np.inf\n",
    "            for a in range(len(self.actions)):\n",
    "                sprime = env.sprime(s, a)\n",
    "                a_exp_reward = (env.reward(s, a) + γ*self.V(sprime))\n",
    "\n",
    "                if a_exp_reward > optimal_reward:\n",
    "                    optimal_reward = a_exp_reward\n",
    "                    π_new = np.zeros(len(self.actions))\n",
    "                    π_new[a] = 1\n",
    "\n",
    "            self._π[:, s[0], s[1]] = π_new\n",
    "                                    \n",
    "        print(f'{steps=}')\n",
    "        return self._V, self._π\n",
    "        \n",
    "        \n",
    "        "
   ]
  },
  {
   "cell_type": "code",
   "execution_count": 50,
   "id": "7543a5f4",
   "metadata": {},
   "outputs": [
    {
     "name": "stdout",
     "output_type": "stream",
     "text": [
      "steps=5\n",
      "[[ 0. -1. -2. -3.]\n",
      " [-1. -2. -3. -2.]\n",
      " [-2. -3. -2. -1.]\n",
      " [-3. -2. -1.  0.]]\n"
     ]
    }
   ],
   "source": [
    "w, h = 4, 4\n",
    "\n",
    "grid = Enviroment(w, h)\n",
    "agent = Agent(w, h)\n",
    "\n",
    "V_out, π_out = agent.value_iteration(grid, γ=1.0, θ=0.01, max_steps=100)\n",
    "\n",
    "print(V_out)"
   ]
  },
  {
   "cell_type": "code",
   "execution_count": 51,
   "id": "40b23dbf",
   "metadata": {},
   "outputs": [
    {
     "name": "stdout",
     "output_type": "stream",
     "text": [
      "steps=21\n"
     ]
    },
    {
     "data": {
      "text/plain": [
       "<matplotlib.image.AxesImage at 0x7fab01c60af0>"
      ]
     },
     "execution_count": 51,
     "metadata": {},
     "output_type": "execute_result"
    },
    {
     "data": {
      "image/png": "[encoded data removed]",
      "text/plain": [
       "<Figure size 432x288 with 1 Axes>"
      ]
     },
     "metadata": {
      "needs_background": "light"
     },
     "output_type": "display_data"
    }
   ],
   "source": [
    "w, h = 16, 24\n",
    "\n",
    "grid = Enviroment(w, h)\n",
    "agent = Agent(w, h)\n",
    "\n",
    "V_out, π_out = agent.value_iteration(grid, γ=1.0, θ=0.01, max_steps=100)\n",
    "\n",
    "plt.imshow(V_out)"
   ]
  },
  {
   "cell_type": "code",
   "execution_count": 45,
   "id": "e4f6fa53",
   "metadata": {},
   "outputs": [
    {
     "name": "stdout",
     "output_type": "stream",
     "text": [
      "up\n"
     ]
    },
    {
     "data": {
      "text/plain": [
       "<matplotlib.image.AxesImage at 0x7fab01dcbf40>"
      ]
     },
     "execution_count": 45,
     "metadata": {},
     "output_type": "execute_result"
    },
    {
     "data": {
      "image/png": "[encoded data removed]",
      "text/plain": [
       "<Figure size 432x288 with 1 Axes>"
      ]
     },
     "metadata": {
      "needs_background": "light"
     },
     "output_type": "display_data"
    }
   ],
   "source": [
    "a = 0\n",
    "print(agent.actions[a])\n",
    "plt.imshow(π_out[a])"
   ]
  },
  {
   "cell_type": "code",
   "execution_count": 46,
   "id": "435fa7df",
   "metadata": {},
   "outputs": [
    {
     "name": "stdout",
     "output_type": "stream",
     "text": [
      "down\n"
     ]
    },
    {
     "data": {
      "text/plain": [
       "<matplotlib.image.AxesImage at 0x7fab01daf580>"
      ]
     },
     "execution_count": 46,
     "metadata": {},
     "output_type": "execute_result"
    },
    {
     "data": {
      "image/png": "[encoded data removed]",
      "text/plain": [
       "<Figure size 432x288 with 1 Axes>"
      ]
     },
     "metadata": {
      "needs_background": "light"
     },
     "output_type": "display_data"
    }
   ],
   "source": [
    "a = 1\n",
    "print(agent.actions[a])\n",
    "plt.imshow(π_out[a])"
   ]
  },
  {
   "cell_type": "code",
   "execution_count": 47,
   "id": "7b9d7e09",
   "metadata": {},
   "outputs": [
    {
     "name": "stdout",
     "output_type": "stream",
     "text": [
      "left\n"
     ]
    },
    {
     "data": {
      "text/plain": [
       "<matplotlib.image.AxesImage at 0x7fab01d0c970>"
      ]
     },
     "execution_count": 47,
     "metadata": {},
     "output_type": "execute_result"
    },
    {
     "data": {
      "image/png": "[encoded data removed]",
      "text/plain": [
       "<Figure size 432x288 with 1 Axes>"
      ]
     },
     "metadata": {
      "needs_background": "light"
     },
     "output_type": "display_data"
    }
   ],
   "source": [
    "a = 2\n",
    "print(agent.actions[a])\n",
    "plt.imshow(π_out[a])"
   ]
  },
  {
   "cell_type": "code",
   "execution_count": 48,
   "id": "cb428886",
   "metadata": {},
   "outputs": [
    {
     "name": "stdout",
     "output_type": "stream",
     "text": [
      "right\n"
     ]
    },
    {
     "data": {
      "text/plain": [
       "<matplotlib.image.AxesImage at 0x7fab01cfeee0>"
      ]
     },
     "execution_count": 48,
     "metadata": {},
     "output_type": "execute_result"
    },
    {
     "data": {
      "image/png": "[encoded data removed]",
      "text/plain": [
       "<Figure size 432x288 with 1 Axes>"
      ]
     },
     "metadata": {
      "needs_background": "light"
     },
     "output_type": "display_data"
    }
   ],
   "source": [
    "a = 3\n",
    "print(agent.actions[a])\n",
    "plt.imshow(π_out[a])"
   ]
  },
  {
   "cell_type": "code",
   "execution_count": null,
   "id": "fad6137e",
   "metadata": {},
   "outputs": [],
   "source": []
  }
 ],
 "metadata": {
  "kernelspec": {
   "display_name": "Python 3 (ipykernel)",
   "language": "python",
   "name": "python3"
  },
  "language_info": {
   "codemirror_mode": {
    "name": "ipython",
    "version": 3
   },
   "file_extension": ".py",
   "mimetype": "text/x-python",
   "name": "python",
   "nbconvert_exporter": "python",
   "pygments_lexer": "ipython3",
   "version": "3.8.10"
  }
 },
 "nbformat": 4,
 "nbformat_minor": 5
}
