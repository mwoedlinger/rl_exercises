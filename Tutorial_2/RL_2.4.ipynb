{
 "cells": [
  {
   "cell_type": "markdown",
   "id": "b7877e00",
   "metadata": {},
   "source": [
    "### Simple 4 × 4 grid world (programming)"
   ]
  },
  {
   "cell_type": "markdown",
   "id": "060424b6",
   "metadata": {},
   "source": [
    "Implement a 4×4 grid world with two terminal states in the upper left\n",
    "corner and lower right corners (resulting in 14 non-terminal states).\n",
    "The four actions 𝒜 = {up, down, left,right} act deterministically, the\n",
    "discount factor is 𝛾 = 1, and the reward is always equal to −1. Ensure\n",
    "that a maximum number of time steps can be specified.\n"
   ]
  },
  {
   "cell_type": "code",
   "execution_count": 121,
   "id": "4d287eaa",
   "metadata": {},
   "outputs": [],
   "source": [
    "import numpy as np\n",
    "from matplotlib import pyplot as plt"
   ]
  },
  {
   "cell_type": "code",
   "execution_count": 122,
   "id": "19372e95",
   "metadata": {},
   "outputs": [],
   "source": [
    "def softmax(x, axis=0):\n",
    "    \"\"\"Compute softmax values for each sets of scores in x.\"\"\"\n",
    "    e_x = np.exp(x - np.max(x))\n",
    "    return e_x / e_x.sum(axis=axis)"
   ]
  },
  {
   "cell_type": "code",
   "execution_count": 123,
   "id": "8cf0f0fd",
   "metadata": {},
   "outputs": [],
   "source": [
    "class Grid:\n",
    "    \n",
    "    def __init__(self, w, h):\n",
    "        self._w = w\n",
    "        self._h = h\n",
    "        \n",
    "        self.R = -np.ones((w, h))\n",
    "        self.actions = {\n",
    "            \"up\": 0,\n",
    "            \"down\": 1,\n",
    "            \"left\": 2,\n",
    "            \"right\": 3\n",
    "        }\n",
    "        \n",
    "        self.terminal = [(0,0), (w-1, h-1)]\n",
    "                    \n",
    "    def sprime(self, s:np.array, a:int) -> tuple:\n",
    "        # actions: (0,1,2,3) = (up, down, left, right)\n",
    "        actions = {\n",
    "            0: np.array((-1, 0)),\n",
    "            1: np.array((1, 0)),\n",
    "            2: np.array((0, -1)),\n",
    "            3: np.array((0, 1))\n",
    "        }\n",
    "        s_prime = s + actions[a]\n",
    "        s_prime[0] = max(min(s_prime[0], self._w-1), 0)\n",
    "        s_prime[1] = max(min(s_prime[1], self._h-1), 0)\n",
    "        \n",
    "        return tuple(s_prime)\n",
    "\n",
    "    def reward(self, s:np.array, a: int) -> float:\n",
    "        s_prime = self.sprime(s, a)\n",
    "        reward = self.R[s_prime[0], s_prime[1]]\n",
    "\n",
    "        return reward\n",
    "\n",
    "    def cumulative_reward(self, s, π, γ=0.9, max_steps=1):\n",
    "        reward = 0\n",
    "        \n",
    "        for a in range(π.shape[0]):\n",
    "            sprime = self.sprime(s, a)\n",
    "            \n",
    "            if max_steps > 1:\n",
    "                reward += π[a, s[0], s[1]]*(self.reward(s, a) + γ*self.cumulative_reward(sprime, π, γ, max_steps-1))\n",
    "            else:\n",
    "                reward += π[a, s[0], s[1]]*self.reward(s, a)\n",
    "        return reward"
   ]
  },
  {
   "cell_type": "code",
   "execution_count": 124,
   "id": "104b3d5f",
   "metadata": {},
   "outputs": [],
   "source": [
    "w, h = 4, 4\n",
    "\n",
    "g = Grid(w, h)"
   ]
  },
  {
   "cell_type": "code",
   "execution_count": 125,
   "id": "59dac11f",
   "metadata": {},
   "outputs": [],
   "source": [
    "# A policy function is a matrix \"policy\" with shape (#actions, grid_w, grid_h) \n",
    "# where policy[a, x, y] is the probability of adction a in state (x, y).\n",
    "# actions: (1,2,3,4) = (up, down, left, right)\n",
    "\n",
    "# π = softmax(np.random.rand(4, w, h)); # random policy\n",
    "π = softmax(np.ones((4, w, h))); # equiprob policy"
   ]
  },
  {
   "cell_type": "code",
   "execution_count": 126,
   "id": "01214ff3",
   "metadata": {},
   "outputs": [
    {
     "data": {
      "text/plain": [
       "<matplotlib.image.AxesImage at 0x226ce72d7b0>"
      ]
     },
     "execution_count": 126,
     "metadata": {},
     "output_type": "execute_result"
    },
    {
     "data": {
      "image/png": "[encoded data removed]",
      "text/plain": [
       "<Figure size 432x288 with 1 Axes>"
      ]
     },
     "metadata": {
      "needs_background": "light"
     },
     "output_type": "display_data"
    }
   ],
   "source": [
    "plt.imshow(g.R)"
   ]
  },
  {
   "cell_type": "code",
   "execution_count": null,
   "id": "1cf54b7b",
   "metadata": {},
   "outputs": [],
   "source": []
  },
  {
   "cell_type": "code",
   "execution_count": null,
   "id": "62c882e7",
   "metadata": {},
   "outputs": [],
   "source": []
  }
 ],
 "metadata": {
  "kernelspec": {
   "display_name": "Python 3 (ipykernel)",
   "language": "python",
   "name": "python3"
  },
  "language_info": {
   "codemirror_mode": {
    "name": "ipython",
    "version": 3
   },
   "file_extension": ".py",
   "mimetype": "text/x-python",
   "name": "python",
   "nbconvert_exporter": "python",
   "pygments_lexer": "ipython3",
   "version": "3.10.4"
  }
 },
 "nbformat": 4,
 "nbformat_minor": 5
}
