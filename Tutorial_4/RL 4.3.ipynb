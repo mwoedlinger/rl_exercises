{
 "cells": [
  {
   "cell_type": "markdown",
   "id": "d91a22a5",
   "metadata": {},
   "source": [
    "### td/tab/speedyqlearning – Tabular Speedy 𝑄-learning (programming)"
   ]
  },
  {
   "cell_type": "markdown",
   "id": "f09a7f86",
   "metadata": {},
   "source": [
    "In [2], the 𝑄-learning variant\n",
    "\n",
    "𝑄𝑡+1(𝑠, 𝑎) ∶= 𝑄𝑡(𝑠, 𝑎) + 𝛼𝑡(ℬ𝑡𝑄𝑡−1(𝑠, 𝑎) − 𝑄𝑡(𝑠, 𝑎))+(1 − 𝛼𝑡)(ℬ𝑡𝑄𝑡(𝑠, 𝑎) − ℬ𝑡𝑄𝑡−1(𝑠, 𝑎)),\n",
    "\n",
    "𝛼𝑡 ∶= 1/(𝑡 + 1),\n",
    "\n",
    "ℬ𝑡𝑄𝑡(𝑠, 𝑎) ∶= 𝑅𝑡+1 + 𝛾 max_𝑎 𝑄𝑡(𝑆𝑡+1, 𝑎),\n",
    "\n",
    "was defined and called Speedy 𝑄-learning. (Here ℬ𝑡 is the (usual) empirical Bellman operator. Note that it is applied to 𝑄𝑡 (𝑠, 𝑎) and to 𝑄𝑡−1(𝑠, 𝑎).) Implement Speedy 𝑄-learning for estimating 𝑞∗ and use it to estimate 𝜋∗ for cliff walking in Exercise gw/cliff.\n",
    "Compare 𝑄-learning and Speedy 𝑄-learning with the learning rate\n",
    "defined above and with adjusted learning rates. Which algorithms\n",
    "converges faster? What is the influence of the learning rate?"
   ]
  },
  {
   "cell_type": "code",
   "execution_count": 1,
   "id": "2866e104",
   "metadata": {},
   "outputs": [],
   "source": [
    "import numpy as np\n",
    "from matplotlib import pyplot as plt\n",
    "from random import choice, random, randint\n",
    "from tqdm.notebook import tqdm\n",
    "\n",
    "class GridCliff:\n",
    "    \n",
    "    def __init__(self, h, w):\n",
    "        self.w = w\n",
    "        self.h = h\n",
    "        \n",
    "        self.actions = [0, 1, 2, 3] #up, down, left, right\n",
    "        \n",
    "        self.start = h*w\n",
    "        self.goal = (h+1)*w-1\n",
    "        \n",
    "        self.terminal = [self.goal]\n",
    "        self.states = [s for s in range(h*w)] + [self.start, self.goal]\n",
    "        self.cliff = [s for s in range(self.start+1, self.goal)]\n",
    "        \n",
    "        self.num_states = h*w + w\n",
    "        self.num_actions = len(self.actions)\n",
    "        \n",
    "        #### state numbering ####\n",
    "        # 0  1  2  3  4  5 \n",
    "        # 6  7  8  9  10 11\n",
    "        # 12 13 14 15 16 17\n",
    "        # 18 #  #  #  #  23\n",
    "        \n",
    "        # 18 and 23 are the final states\n",
    "        #### state numbering ####\n",
    "        \n",
    "    def state_coordinates(self, s):\n",
    "        return (s // self.w, s % self.w)\n",
    "        \n",
    "    def step(self, s, a):\n",
    "        assert s in (self.states + [self.start, self.goal]), f'{s=} not valid.'\n",
    "        \n",
    "        action_values = [-self.w, +self.w, -1, +1]\n",
    "        sprime = s + action_values[a]\n",
    "        \n",
    "        if sprime in self.cliff:\n",
    "            return self.start, -100\n",
    "        elif (s // self.w) != (sprime // self.w) and a > 1: # out horizontally\n",
    "            return s, -1\n",
    "        elif sprime not in self.states: # out vertically\n",
    "            return s, -1\n",
    "        else:\n",
    "            return sprime, -1\n",
    "\n",
    "def epsilon_greedy_action(Q, s, ϵ):\n",
    "    A = len(Q[s, :])\n",
    "    \n",
    "    if random() < ϵ:\n",
    "        return randint(0, A-1)\n",
    "    else:\n",
    "        return Q[s, :].argmax()\n",
    "    \n",
    "def B(world, Q, s, a, γ):\n",
    "    Sprime, R = world.step(s, a)\n",
    "    return R + γ*Q[Sprime,:].max()\n",
    "\n",
    "def q_learning(world, ϵ=0.1, α=0.1, γ=0.9, num_episodes=10, max_steps=100, lr_scheduler=True):\n",
    "    \n",
    "    # Initialize Q\n",
    "    Q = np.random.random((world.num_states, world.num_actions))\n",
    "    for t in world.terminal:\n",
    "        Q[t] = 0\n",
    "    for t in world.cliff:\n",
    "        Q[t] = np.nan\n",
    "    rewards = []\n",
    "        \n",
    "    # Loop through episodes\n",
    "    for k in range(num_episodes):\n",
    "        S = choice(world.states) # pick random state\n",
    "        t = 0\n",
    "        \n",
    "        reward = 0\n",
    "        for step in range(max_steps):\n",
    "            if S in world.terminal: # if S terminal end episode\n",
    "                break\n",
    "    \n",
    "            # Step with ϵ-greedy action\n",
    "            A = epsilon_greedy_action(Q, S, ϵ)\n",
    "            Sprime, R = world.step(S, A)\n",
    "            Aprime = epsilon_greedy_action(Q, Sprime, ϵ)\n",
    "            \n",
    "            if lr_scheduler:\n",
    "                αt = 1/(1 + t)\n",
    "                t += 1\n",
    "            else:\n",
    "                αt = α\n",
    "            \n",
    "            # Update Q\n",
    "            BQ = B(world, Q, S, A, γ)\n",
    "            Q[S, A] = Q[S, A] + αt*(BQ - Q[S, A])\n",
    "                        \n",
    "            # Save current state and action\n",
    "            S, A = Sprime, Aprime\n",
    "            reward += R\n",
    "            \n",
    "        rewards.append(reward)\n",
    "        \n",
    "    return Q, rewards\n",
    "\n",
    "def sq_learning(world, ϵ=0.1, α=0.1, γ=0.9, num_episodes=10, max_steps=100, lr_scheduler=True):\n",
    "\n",
    "    # Initialize Q\n",
    "    Q = np.random.random((world.num_states, world.num_actions))\n",
    "    for t in world.terminal:\n",
    "        Q[t] = 0\n",
    "    for t in world.cliff:\n",
    "        Q[t] = np.nan\n",
    "    rewards = []\n",
    "\n",
    "    # Loop through episodes    \n",
    "    for k in range(num_episodes):\n",
    "        S = choice(world.states) # pick random state\n",
    "        t = 0\n",
    "\n",
    "        reward = 0\n",
    "        Q_old = Q.copy()\n",
    "        for step in range(max_steps):\n",
    "            if S in world.terminal: # if S terminal end episode\n",
    "                break\n",
    "\n",
    "            # Step with ϵ-greedy action\n",
    "            A = epsilon_greedy_action(Q, S, ϵ)\n",
    "            Sprime, R = world.step(S, A)\n",
    "            \n",
    "            if lr_scheduler:\n",
    "                αt = 1/(1 + t)\n",
    "                t += 1\n",
    "            else:\n",
    "                αt = α\n",
    "\n",
    "            # Update Q\n",
    "            BQ_t = B(world, Q, S, A, γ)\n",
    "            BQ_old = B(world, Q_old, S, A, γ)\n",
    "\n",
    "            Q_old[S, A] = Q[S, A].copy()\n",
    "            Q[S, A] = Q[S, A] + αt*(BQ_old - Q[S, A]) + (1-αt)*(BQ_t - BQ_old)\n",
    "            \n",
    "            # Save current state\n",
    "            S = Sprime\n",
    "            reward += R\n",
    "            \n",
    "        rewards.append(reward)\n",
    "        \n",
    "    return Q, rewards"
   ]
  },
  {
   "cell_type": "code",
   "execution_count": 2,
   "id": "47373ef8",
   "metadata": {},
   "outputs": [],
   "source": [
    "h, w = 5, 10\n",
    "\n",
    "cliff = GridCliff(h, w)"
   ]
  },
  {
   "cell_type": "code",
   "execution_count": 3,
   "id": "fab00213",
   "metadata": {},
   "outputs": [],
   "source": [
    "def mse(Q):\n",
    "    V_GT = np.zeros(h*w + w)\n",
    "    for r in range(h+1):\n",
    "        for c in range(w):\n",
    "            if r == h :\n",
    "                if c == 0:\n",
    "                    V_GT[r*w + c] = -w -1\n",
    "                else:\n",
    "                    V_GT[r*w + c] = 0\n",
    "            else:\n",
    "                V_GT[r*w + c] = r + c - h - w + 1\n",
    "\n",
    "    π_greedy = np.ones((cliff.num_states, cliff.num_actions))\n",
    "    for s in cliff.states:\n",
    "        π_greedy[s] = np.eye(cliff.num_actions)[Q[s, :].argmax()] \n",
    "\n",
    "    V = (π_greedy*Q).sum(axis=-1)\n",
    "    for s in cliff.cliff:\n",
    "        V[s] = 0.0\n",
    "        \n",
    "    return ((V - V_GT)**2).mean()"
   ]
  },
  {
   "cell_type": "code",
   "execution_count": 7,
   "id": "86f663aa",
   "metadata": {},
   "outputs": [
    {
     "name": "stdout",
     "output_type": "stream",
     "text": [
      "Q-learning V-MSE:        0.038756165579280966\n",
      "Speedy Q-learning V-MSE: 0.0018672322746179624\n"
     ]
    }
   ],
   "source": [
    "Q_out_sq, reward_sq = sq_learning(cliff, ϵ=0.1, α=1.0, γ=1.0, num_episodes=1000, max_steps=1000, lr_scheduler=True)\n",
    "Q_out_q, reward_q = q_learning(cliff, ϵ=0.1, α=1.0, γ=1.0, num_episodes=1000, max_steps=1000, lr_scheduler=True)\n",
    "\n",
    "print(f'Q-learning V-MSE:        {mse(Q_out_q)}')\n",
    "print(f'Speedy Q-learning V-MSE: {mse(Q_out_sq)}')"
   ]
  },
  {
   "cell_type": "code",
   "execution_count": 8,
   "id": "978706e9",
   "metadata": {},
   "outputs": [
    {
     "data": {
      "application/vnd.jupyter.widget-view+json": {
       "model_id": "ff16ea344860400ba91b7124d23d9f0a",
       "version_major": 2,
       "version_minor": 0
      },
      "text/plain": [
       "  0%|          | 0/50 [00:00<?, ?it/s]"
      ]
     },
     "metadata": {},
     "output_type": "display_data"
    }
   ],
   "source": [
    "rewards_sq = []\n",
    "rewards_q = []\n",
    "\n",
    "for eps in tqdm(range(0, 5000, 100)):\n",
    "    _, reward_sq = sq_learning(cliff, ϵ=0.1, α=1.0, γ=1.0, num_episodes=eps, max_steps=1000, lr_scheduler=True)\n",
    "    _, reward_q = q_learning(cliff, ϵ=0.1, α=1.0, γ=1.0, num_episodes=eps, max_steps=1000, lr_scheduler=True)\n",
    "    rewards_sq.append(reward_sq)\n",
    "    rewards_q.append(reward_q)"
   ]
  },
  {
   "cell_type": "code",
   "execution_count": 9,
   "id": "3be40c65",
   "metadata": {
    "scrolled": true
   },
   "outputs": [
    {
     "name": "stdout",
     "output_type": "stream",
     "text": [
      "1/(t+1) schedule\n"
     ]
    },
    {
     "data": {
      "text/plain": [
       "<matplotlib.legend.Legend at 0x7fb354f45e20>"
      ]
     },
     "execution_count": 9,
     "metadata": {},
     "output_type": "execute_result"
    },
    {
     "data": {
      "image/png": "[encoded data removed]",
      "text/plain": [
       "<Figure size 432x288 with 1 Axes>"
      ]
     },
     "metadata": {
      "needs_background": "light"
     },
     "output_type": "display_data"
    }
   ],
   "source": [
    "print('1/(t+1) schedule')\n",
    "R_mean_q = [np.mean(r) for r in rewards_q]\n",
    "R_mean_sq = [np.mean(r) for r in rewards_sq]\n",
    "plt.plot([n for n in range(0, 5000, 100)], R_mean_q, label='Q-learning')\n",
    "plt.plot([n for n in range(0, 5000, 100)], R_mean_sq, label='SQ-learning')\n",
    "plt.legend()"
   ]
  },
  {
   "cell_type": "code",
   "execution_count": 12,
   "id": "7eaf8b38",
   "metadata": {},
   "outputs": [
    {
     "data": {
      "application/vnd.jupyter.widget-view+json": {
       "model_id": "1ce25821ec94457bb083d44e526209cb",
       "version_major": 2,
       "version_minor": 0
      },
      "text/plain": [
       "  0%|          | 0/100 [00:00<?, ?it/s]"
      ]
     },
     "metadata": {},
     "output_type": "display_data"
    }
   ],
   "source": [
    "rewards_sq = []\n",
    "rewards_q = []\n",
    "\n",
    "for alpha in tqdm(np.linspace(0.01, 1, 100)):\n",
    "    _, reward_sq = sq_learning(cliff, ϵ=0.1, α=alpha, γ=1.0, num_episodes=5000, max_steps=5000, lr_scheduler=False)\n",
    "    _, reward_q = q_learning(cliff, ϵ=0.1, α=alpha, γ=1.0, num_episodes=5000, max_steps=5000, lr_scheduler=False)\n",
    "    rewards_sq.append(reward_sq)\n",
    "    rewards_q.append(reward_q)"
   ]
  },
  {
   "cell_type": "code",
   "execution_count": 13,
   "id": "db46ae7d",
   "metadata": {},
   "outputs": [
    {
     "name": "stdout",
     "output_type": "stream",
     "text": [
      "Different learning rates\n"
     ]
    },
    {
     "data": {
      "text/plain": [
       "<matplotlib.legend.Legend at 0x7fb34bff6e80>"
      ]
     },
     "execution_count": 13,
     "metadata": {},
     "output_type": "execute_result"
    },
    {
     "data": {
      "image/png": "[encoded data removed]",
      "text/plain": [
       "<Figure size 432x288 with 1 Axes>"
      ]
     },
     "metadata": {
      "needs_background": "light"
     },
     "output_type": "display_data"
    }
   ],
   "source": [
    "print('Different learning rates')\n",
    "R_mean_q = [np.mean(r) for r in rewards_q]\n",
    "R_mean_sq = [np.mean(r) for r in rewards_sq]\n",
    "plt.plot(np.linspace(0.01, 1, 100), R_mean_q, label='Q-learning')\n",
    "plt.plot(np.linspace(0.01, 1, 100), R_mean_sq, label='SQ-learning')\n",
    "plt.legend()"
   ]
  },
  {
   "cell_type": "code",
   "execution_count": null,
   "id": "f6d98d27",
   "metadata": {},
   "outputs": [],
   "source": []
  }
 ],
 "metadata": {
  "kernelspec": {
   "display_name": "Python 3 (ipykernel)",
   "language": "python",
   "name": "python3"
  },
  "language_info": {
   "codemirror_mode": {
    "name": "ipython",
    "version": 3
   },
   "file_extension": ".py",
   "mimetype": "text/x-python",
   "name": "python",
   "nbconvert_exporter": "python",
   "pygments_lexer": "ipython3",
   "version": "3.8.10"
  }
 },
 "nbformat": 4,
 "nbformat_minor": 5
}
