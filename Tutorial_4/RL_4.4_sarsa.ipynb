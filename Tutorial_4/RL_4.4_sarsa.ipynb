{
 "cells": [
  {
   "cell_type": "markdown",
   "id": "96cb3d64",
   "metadata": {},
   "source": [
    "### TD/TAB/SARSA"
   ]
  },
  {
   "cell_type": "markdown",
   "id": "3130ef86",
   "metadata": {},
   "source": [
    "Implement SARSA for estimating 𝑄 ≈ 𝑞∗ and use it to estimate 𝑞∗\n",
    "for\n",
    "cliff walking in Exercise gw/cliff."
   ]
  },
  {
   "cell_type": "code",
   "execution_count": 1,
   "id": "281897a5",
   "metadata": {},
   "outputs": [],
   "source": [
    "import numpy as np\n",
    "from matplotlib import pyplot as plt\n",
    "from random import choice, random, randint\n",
    "from tqdm import tqdm_notebook as tqdm"
   ]
  },
  {
   "cell_type": "code",
   "execution_count": 2,
   "id": "f195c1c6",
   "metadata": {},
   "outputs": [],
   "source": [
    "class GridCliff:\n",
    "    \n",
    "    def __init__(self, h, w):\n",
    "        self.w = w\n",
    "        self.h = h\n",
    "        \n",
    "        self.actions = [0, 1, 2, 3] #up, down, left, right\n",
    "        \n",
    "        self.start = h*w\n",
    "        self.goal = (h+1)*w-1\n",
    "        \n",
    "        self.terminal = [self.goal]\n",
    "        self.states = [s for s in range(h*w)] + [self.start, self.goal]\n",
    "        self.cliff = [s for s in range(self.start+1, self.goal)]\n",
    "        \n",
    "        self.num_states = h*w + w\n",
    "        self.num_actions = len(self.actions)\n",
    "        \n",
    "        #### state numbering ####\n",
    "        # 0  1  2  3  4  5 \n",
    "        # 6  7  8  9  10 11\n",
    "        # 12 13 14 15 16 17\n",
    "        # 18 #  #  #  #  23\n",
    "        \n",
    "        # 18 and 23 are the final states\n",
    "        #### state numbering ####\n",
    "        \n",
    "    def state_coordinates(self, s):\n",
    "        return (s // self.w, s % self.w)\n",
    "        \n",
    "    def step(self, s, a):\n",
    "        assert s in (self.states + [self.start, self.goal]), f'{s=} not valid.'\n",
    "        \n",
    "        action_values = [-self.w, +self.w, -1, +1]\n",
    "        sprime = s + action_values[a]\n",
    "        \n",
    "        if sprime in self.cliff:\n",
    "            return self.start, -100\n",
    "        elif (s // self.w) != (sprime // self.w) and a > 1: # out horizontally\n",
    "            return s, -1\n",
    "        elif sprime not in self.states: # out vertically\n",
    "            return s, -1\n",
    "        else:\n",
    "            return sprime, -1"
   ]
  },
  {
   "cell_type": "code",
   "execution_count": 9,
   "id": "8bd06b4e",
   "metadata": {},
   "outputs": [],
   "source": [
    "def epsilon_greedy_action(Q, s, ϵ):\n",
    "    A = len(Q[s, :])\n",
    "    \n",
    "    if random() < ϵ:\n",
    "        return randint(0, A-1)\n",
    "    else:\n",
    "        return Q[s, :].argmax()\n",
    "    \n",
    "\n",
    "def sarsa(world, ϵ=0.1, α=0.1, γ=0.9, num_episodes=10, max_steps=100):\n",
    "    num_A = world.num_actions\n",
    "    num_S = world.num_states\n",
    "    \n",
    "    # Initialize Q\n",
    "    Q = np.random.random((num_S, num_A))\n",
    "    for t in world.terminal:\n",
    "        Q[t] = 0\n",
    "    for t in world.cliff:\n",
    "        Q[t] = np.nan\n",
    "        \n",
    "    rewards = []\n",
    "        \n",
    "    # Loop through episodes\n",
    "    for ep in range(num_episodes):\n",
    "        S = choice(world.states) # pick random state\n",
    "        A = epsilon_greedy_action(Q, S, ϵ) # ϵ-greedy action\n",
    "        reward = 0\n",
    "        \n",
    "        for step in range(max_steps):\n",
    "            if S in world.terminal: # if S terminal end episode\n",
    "                break\n",
    "                \n",
    "            # step with ϵ-greedy action\n",
    "            Sprime, R = world.step(S, A)\n",
    "            Aprime = epsilon_greedy_action(Q, Sprime, ϵ)\n",
    "            \n",
    "            # Update Q\n",
    "            Q[S, A] = Q[S, A] + α*(R + γ*Q[Sprime, Aprime] - Q[S, A])\n",
    "            \n",
    "            # Save current state and action\n",
    "            S, A = Sprime, Aprime\n",
    "            reward += R\n",
    "            \n",
    "        rewards.append(reward)\n",
    "        \n",
    "    return Q, rewards"
   ]
  },
  {
   "cell_type": "code",
   "execution_count": 10,
   "id": "736e465e",
   "metadata": {},
   "outputs": [],
   "source": [
    "h, w = 3, 6\n",
    "\n",
    "cliff = GridCliff(h, w)"
   ]
  },
  {
   "cell_type": "code",
   "execution_count": 6,
   "id": "bda1331c",
   "metadata": {},
   "outputs": [],
   "source": [
    "Q_out, reward = sarsa(cliff, ϵ=0.1, α=0.1, γ=1.0, num_episodes=20000, max_steps=1000)"
   ]
  },
  {
   "cell_type": "code",
   "execution_count": 7,
   "id": "979ba76d",
   "metadata": {},
   "outputs": [
    {
     "name": "stderr",
     "output_type": "stream",
     "text": [
      "/tmp/ipykernel_515/3266116728.py:3: TqdmDeprecationWarning: This function will be removed in tqdm==5.0.0\n",
      "Please use `tqdm.notebook.tqdm` instead of `tqdm.tqdm_notebook`\n",
      "  for alpha in tqdm(np.linspace(0.05, 1, 20)):\n"
     ]
    },
    {
     "data": {
      "application/vnd.jupyter.widget-view+json": {
       "model_id": "bebc2e51cdb24fdf9f7b64031828a921",
       "version_major": 2,
       "version_minor": 0
      },
      "text/plain": [
       "  0%|          | 0/20 [00:00<?, ?it/s]"
      ]
     },
     "metadata": {},
     "output_type": "display_data"
    }
   ],
   "source": [
    "rewards = []\n",
    "\n",
    "for alpha in tqdm(np.linspace(0.05, 1, 20)):\n",
    "    _, reward = sarsa(cliff, ϵ=0.1, α=alpha, γ=1.0, num_episodes=100000, max_steps=1000)\n",
    "    rewards.append(reward)"
   ]
  },
  {
   "cell_type": "code",
   "execution_count": 14,
   "id": "0797f1ca",
   "metadata": {},
   "outputs": [
    {
     "data": {
      "text/plain": [
       "(-23.0, -6.0)"
      ]
     },
     "execution_count": 14,
     "metadata": {},
     "output_type": "execute_result"
    },
    {
     "data": {
      "image/png": "[encoded data removed]",
      "text/plain": [
       "<Figure size 432x288 with 1 Axes>"
      ]
     },
     "metadata": {
      "needs_background": "light"
     },
     "output_type": "display_data"
    }
   ],
   "source": [
    "print('asymptotic')\n",
    "R_mean = [np.mean(r) for r in rewards]\n",
    "plt.plot(np.linspace(0.05, 1, 20), R_mean, label='sarsa')\n",
    "plt.legend()\n",
    "plt.ylim((-23, -6))"
   ]
  },
  {
   "cell_type": "code",
   "execution_count": 15,
   "id": "59658cf6",
   "metadata": {},
   "outputs": [
    {
     "name": "stdout",
     "output_type": "stream",
     "text": [
      "initial\n"
     ]
    },
    {
     "data": {
      "text/plain": [
       "<matplotlib.legend.Legend at 0x7fe9bc3747c0>"
      ]
     },
     "execution_count": 15,
     "metadata": {},
     "output_type": "execute_result"
    },
    {
     "data": {
      "image/png": "[encoded data removed]",
      "text/plain": [
       "<Figure size 432x288 with 1 Axes>"
      ]
     },
     "metadata": {
      "needs_background": "light"
     },
     "output_type": "display_data"
    }
   ],
   "source": [
    "print('initial')\n",
    "R_mean = [np.mean(r[:100]) for r in rewards]\n",
    "plt.plot(np.linspace(0.05, 1, 20), R_mean, label='sarsa')\n",
    "plt.legend()"
   ]
  },
  {
   "cell_type": "code",
   "execution_count": null,
   "id": "693d407c",
   "metadata": {},
   "outputs": [],
   "source": []
  },
  {
   "cell_type": "code",
   "execution_count": 11,
   "id": "bcbdd092",
   "metadata": {},
   "outputs": [
    {
     "name": "stderr",
     "output_type": "stream",
     "text": [
      "/tmp/ipykernel_559/250660373.py:3: TqdmDeprecationWarning: This function will be removed in tqdm==5.0.0\n",
      "Please use `tqdm.notebook.tqdm` instead of `tqdm.tqdm_notebook`\n",
      "  for eps in tqdm(np.linspace(0.05, 1, 20)):\n"
     ]
    },
    {
     "data": {
      "application/vnd.jupyter.widget-view+json": {
       "model_id": "c0b250e8de1a490692d3416311e30c7a",
       "version_major": 2,
       "version_minor": 0
      },
      "text/plain": [
       "  0%|          | 0/20 [00:00<?, ?it/s]"
      ]
     },
     "metadata": {},
     "output_type": "display_data"
    }
   ],
   "source": [
    "rewards_eps = []\n",
    "\n",
    "for eps in tqdm(np.linspace(0.05, 1, 20)):\n",
    "    _, reward = sarsa(cliff, ϵ=eps, α=0.1, γ=1.0, num_episodes=100000, max_steps=1000)\n",
    "    rewards_eps.append(reward)"
   ]
  },
  {
   "cell_type": "code",
   "execution_count": 19,
   "id": "2c6b6daf",
   "metadata": {},
   "outputs": [
    {
     "name": "stdout",
     "output_type": "stream",
     "text": [
      "asymptotic\n"
     ]
    },
    {
     "data": {
      "text/plain": [
       "(-100.0, 0.0)"
      ]
     },
     "execution_count": 19,
     "metadata": {},
     "output_type": "execute_result"
    },
    {
     "data": {
      "image/png": "[encoded data removed]",
      "text/plain": [
       "<Figure size 432x288 with 1 Axes>"
      ]
     },
     "metadata": {
      "needs_background": "light"
     },
     "output_type": "display_data"
    }
   ],
   "source": [
    "print('asymptotic')\n",
    "R_mean = [np.mean(r) for r in rewards_eps]\n",
    "plt.plot(np.linspace(0.05, 1, 20), R_mean, label='sarsa')\n",
    "plt.legend()\n",
    "plt.ylim((-100,0))"
   ]
  },
  {
   "cell_type": "code",
   "execution_count": 22,
   "id": "6e3bc182",
   "metadata": {},
   "outputs": [
    {
     "name": "stdout",
     "output_type": "stream",
     "text": [
      "initial\n"
     ]
    },
    {
     "data": {
      "text/plain": [
       "(-100.0, 0.0)"
      ]
     },
     "execution_count": 22,
     "metadata": {},
     "output_type": "execute_result"
    },
    {
     "data": {
      "image/png": "[encoded data removed]",
      "text/plain": [
       "<Figure size 432x288 with 1 Axes>"
      ]
     },
     "metadata": {
      "needs_background": "light"
     },
     "output_type": "display_data"
    }
   ],
   "source": [
    "print('initial')\n",
    "R_mean = [np.mean(r[:100]) for r in rewards_eps]\n",
    "plt.plot(np.linspace(0.05, 1, 20), R_mean, label='sarsa')\n",
    "plt.legend()\n",
    "plt.ylim((-100, 0))"
   ]
  },
  {
   "cell_type": "code",
   "execution_count": 21,
   "id": "0ff4ea44",
   "metadata": {},
   "outputs": [
    {
     "name": "stdout",
     "output_type": "stream",
     "text": [
      "initial\n"
     ]
    },
    {
     "data": {
      "text/plain": [
       "<matplotlib.legend.Legend at 0x7fa4484a3c70>"
      ]
     },
     "execution_count": 21,
     "metadata": {},
     "output_type": "execute_result"
    },
    {
     "data": {
      "image/png": "[encoded data removed]",
      "text/plain": [
       "<Figure size 432x288 with 1 Axes>"
      ]
     },
     "metadata": {
      "needs_background": "light"
     },
     "output_type": "display_data"
    }
   ],
   "source": [
    "print('initial')\n",
    "R_mean = [np.mean(r[:100]) for r in rewards_eps]\n",
    "plt.plot(np.linspace(0.05, 1, 20), R_mean, label='sarsa')\n",
    "plt.legend()"
   ]
  },
  {
   "cell_type": "code",
   "execution_count": null,
   "id": "4538bc8e",
   "metadata": {},
   "outputs": [],
   "source": []
  }
 ],
 "metadata": {
  "kernelspec": {
   "display_name": "Python 3 (ipykernel)",
   "language": "python",
   "name": "python3"
  },
  "language_info": {
   "codemirror_mode": {
    "name": "ipython",
    "version": 3
   },
   "file_extension": ".py",
   "mimetype": "text/x-python",
   "name": "python",
   "nbconvert_exporter": "python",
   "pygments_lexer": "ipython3",
   "version": "3.8.10"
  }
 },
 "nbformat": 4,
 "nbformat_minor": 5
}
