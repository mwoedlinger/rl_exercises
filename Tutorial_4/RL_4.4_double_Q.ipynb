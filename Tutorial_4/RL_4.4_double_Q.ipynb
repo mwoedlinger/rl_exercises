{
 "cells": [
  {
   "cell_type": "markdown",
   "id": "d91a22a5",
   "metadata": {},
   "source": [
    "### td/tab/doubleqlearning – Tabular Double 𝑄-learning (programming)"
   ]
  },
  {
   "cell_type": "markdown",
   "id": "f09a7f86",
   "metadata": {},
   "source": [
    "Implement Double 𝑄-learning for estimating 𝑄1 ≈ 𝑄2 ≈ 𝑞∗ and use it\n",
    "to estimate 𝜋∗\n",
    "for cliff walking in Exercise gw/cliff."
   ]
  },
  {
   "cell_type": "code",
   "execution_count": 1,
   "id": "281897a5",
   "metadata": {},
   "outputs": [],
   "source": [
    "import numpy as np\n",
    "from matplotlib import pyplot as plt\n",
    "from random import choice, random, randint\n",
    "\n",
    "from tqdm import tqdm_notebook as tqdm"
   ]
  },
  {
   "cell_type": "code",
   "execution_count": 2,
   "id": "a17f72ab",
   "metadata": {},
   "outputs": [],
   "source": [
    "class GridCliff:\n",
    "    \n",
    "    def __init__(self, h, w):\n",
    "        self.w = w\n",
    "        self.h = h\n",
    "        \n",
    "        self.actions = [0, 1, 2, 3] #up, down, left, right\n",
    "        \n",
    "        self.start = h*w\n",
    "        self.goal = (h+1)*w-1\n",
    "        \n",
    "        self.terminal = [self.goal]\n",
    "        self.states = [s for s in range(h*w)] + [self.start, self.goal]\n",
    "        self.cliff = [s for s in range(self.start+1, self.goal)]\n",
    "        \n",
    "        self.num_states = h*w + w\n",
    "        self.num_actions = len(self.actions)\n",
    "        \n",
    "        #### state numbering ####\n",
    "        # 0  1  2  3  4  5 \n",
    "        # 6  7  8  9  10 11\n",
    "        # 12 13 14 15 16 17\n",
    "        # 18 #  #  #  #  23\n",
    "        \n",
    "        # 18 and 23 are the final states\n",
    "        #### state numbering ####\n",
    "        \n",
    "    def state_coordinates(self, s):\n",
    "        return (s // self.w, s % self.w)\n",
    "        \n",
    "    def step(self, s, a):\n",
    "        assert s in (self.states + [self.start, self.goal]), f'{s=} not valid.'\n",
    "        \n",
    "        action_values = [-self.w, +self.w, -1, +1]\n",
    "        sprime = s + action_values[a]\n",
    "        \n",
    "        if sprime in self.cliff:\n",
    "            return self.start, -100\n",
    "        elif (s // self.w) != (sprime // self.w) and a > 1: # out horizontally\n",
    "            return s, -1\n",
    "        elif sprime not in self.states: # out vertically\n",
    "            return s, -1\n",
    "        else:\n",
    "            return sprime, -1"
   ]
  },
  {
   "cell_type": "code",
   "execution_count": 3,
   "id": "2866e104",
   "metadata": {},
   "outputs": [],
   "source": [
    "def epsilon_greedy_action(Q, s, ϵ):\n",
    "    A = len(Q[s, :])\n",
    "    \n",
    "    if random() < ϵ:\n",
    "        return randint(0, A-1)\n",
    "    else:\n",
    "        return Q[s, :].argmax()  \n",
    "    \n",
    "def greedy_action(Q, s):\n",
    "    return Q[s, :].argmax()\n",
    "\n",
    "def double_q_learning(world, ϵ=0.1, α=0.1, γ=0.9, num_episodes=10, max_steps=100):\n",
    "    \n",
    "    # Initialize Q_1 and Q_2\n",
    "    Q_1 = np.random.random((world.num_states, world.num_actions))\n",
    "    Q_2 = np.random.random((world.num_states, world.num_actions))\n",
    "    for t in world.terminal:\n",
    "        Q_1[t] = 0\n",
    "        Q_2[t] = 0\n",
    "    for t in world.cliff:\n",
    "        Q_1[t] = np.nan\n",
    "        Q_2[t] = np.nan\n",
    "        \n",
    "    rewards = []\n",
    "                \n",
    "    # Loop through episodes\n",
    "    for ep in range(num_episodes):\n",
    "        S = choice(world.states) # pick random state\n",
    "        \n",
    "        reward = 0\n",
    "        for step in range(max_steps):\n",
    "            if S in world.terminal: # if S terminal end episode\n",
    "                break\n",
    "    \n",
    "            # Step with ϵ-greedy action derived from Q_1 and Q_2\n",
    "            A = epsilon_greedy_action(Q_1 + Q_2, S, ϵ)\n",
    "            Sprime, R = world.step(S, A)\n",
    "            \n",
    "            # Update Q_1 or Q_2\n",
    "            if random() > 0.5:\n",
    "                Q_1[S, A] = Q_1[S, A] + α*(R + γ*Q_2[Sprime, greedy_action(Q_1, Sprime)] - Q_1[S, A])\n",
    "            else:\n",
    "                Q_2[S, A] = Q_2[S, A] + α*(R + γ*Q_1[Sprime, greedy_action(Q_2, Sprime)] - Q_2[S, A])\n",
    "                \n",
    "            # Save current state\n",
    "            S = Sprime\n",
    "            reward += R\n",
    "            \n",
    "        rewards.append(reward)\n",
    "        \n",
    "    return Q_1, Q_2, rewards"
   ]
  },
  {
   "cell_type": "code",
   "execution_count": 4,
   "id": "47373ef8",
   "metadata": {},
   "outputs": [],
   "source": [
    "h, w = 3, 6\n",
    "\n",
    "cliff = GridCliff(h, w)"
   ]
  },
  {
   "cell_type": "code",
   "execution_count": 50,
   "id": "86f663aa",
   "metadata": {},
   "outputs": [],
   "source": [
    "Q_out_1, Q_out_2, rewards = double_q_learning(cliff, ϵ=0.1, α=0.1, γ=1.0, num_episodes=20000, max_steps=1000)"
   ]
  },
  {
   "cell_type": "code",
   "execution_count": 51,
   "id": "edc9eaca",
   "metadata": {},
   "outputs": [
    {
     "name": "stderr",
     "output_type": "stream",
     "text": [
      "/tmp/ipykernel_370/396944558.py:3: TqdmDeprecationWarning: This function will be removed in tqdm==5.0.0\n",
      "Please use `tqdm.notebook.tqdm` instead of `tqdm.tqdm_notebook`\n",
      "  for alpha in tqdm(np.linspace(0.05, 1, 20)):\n"
     ]
    },
    {
     "data": {
      "application/vnd.jupyter.widget-view+json": {
       "model_id": "cbd690315a284d9eaa7ba42902e8e610",
       "version_major": 2,
       "version_minor": 0
      },
      "text/plain": [
       "  0%|          | 0/20 [00:00<?, ?it/s]"
      ]
     },
     "metadata": {},
     "output_type": "display_data"
    }
   ],
   "source": [
    "rewards = []\n",
    "\n",
    "for alpha in tqdm(np.linspace(0.05, 1, 20)):\n",
    "    _, _, reward = double_q_learning(cliff, ϵ=0.1, α=alpha, γ=1.0, num_episodes=100000, max_steps=1000)\n",
    "    rewards.append(reward)"
   ]
  },
  {
   "cell_type": "code",
   "execution_count": 53,
   "id": "f0758bc2",
   "metadata": {},
   "outputs": [
    {
     "data": {
      "text/plain": [
       "(-23.0, -6.0)"
      ]
     },
     "execution_count": 53,
     "metadata": {},
     "output_type": "execute_result"
    },
    {
     "data": {
      "image/png": "[encoded data removed]",
      "text/plain": [
       "<Figure size 432x288 with 1 Axes>"
      ]
     },
     "metadata": {
      "needs_background": "light"
     },
     "output_type": "display_data"
    }
   ],
   "source": [
    "print('asymptotic')\n",
    "R_mean = [np.mean(r) for r in rewards]\n",
    "plt.plot(np.linspace(0.05, 1, 20), R_mean, label='double Q-learning')\n",
    "plt.legend()\n",
    "plt.ylim((-23, -6))"
   ]
  },
  {
   "cell_type": "code",
   "execution_count": 54,
   "id": "5b4062ce",
   "metadata": {},
   "outputs": [
    {
     "name": "stdout",
     "output_type": "stream",
     "text": [
      "initial\n"
     ]
    },
    {
     "data": {
      "text/plain": [
       "<matplotlib.legend.Legend at 0x7f09e5f4db80>"
      ]
     },
     "execution_count": 54,
     "metadata": {},
     "output_type": "execute_result"
    },
    {
     "data": {
      "image/png": "[encoded data removed]",
      "text/plain": [
       "<Figure size 432x288 with 1 Axes>"
      ]
     },
     "metadata": {
      "needs_background": "light"
     },
     "output_type": "display_data"
    }
   ],
   "source": [
    "print('initial')\n",
    "R_mean = [np.mean(r[:100]) for r in rewards]\n",
    "plt.plot(np.linspace(0.05, 1, 20), R_mean, label='double Q-learning')\n",
    "plt.legend()"
   ]
  },
  {
   "cell_type": "code",
   "execution_count": null,
   "id": "098c097b",
   "metadata": {},
   "outputs": [],
   "source": []
  },
  {
   "cell_type": "code",
   "execution_count": 5,
   "id": "17f77baf",
   "metadata": {},
   "outputs": [
    {
     "name": "stderr",
     "output_type": "stream",
     "text": [
      "/tmp/ipykernel_581/114021448.py:3: TqdmDeprecationWarning: This function will be removed in tqdm==5.0.0\n",
      "Please use `tqdm.notebook.tqdm` instead of `tqdm.tqdm_notebook`\n",
      "  for eps in tqdm(np.linspace(0.05, 1, 20)):\n"
     ]
    },
    {
     "data": {
      "application/vnd.jupyter.widget-view+json": {
       "model_id": "b7b2732a238145fdbfd8918252f8193c",
       "version_major": 2,
       "version_minor": 0
      },
      "text/plain": [
       "  0%|          | 0/20 [00:00<?, ?it/s]"
      ]
     },
     "metadata": {},
     "output_type": "display_data"
    }
   ],
   "source": [
    "rewards_eps = []\n",
    "\n",
    "for eps in tqdm(np.linspace(0.05, 1, 20)):\n",
    "    _, _, reward = double_q_learning(cliff, ϵ=eps, α=0.1, γ=1.0, num_episodes=100000, max_steps=1000)\n",
    "    rewards_eps.append(reward)"
   ]
  },
  {
   "cell_type": "code",
   "execution_count": 9,
   "id": "ac10047f",
   "metadata": {},
   "outputs": [
    {
     "name": "stdout",
     "output_type": "stream",
     "text": [
      "asymptotic\n"
     ]
    },
    {
     "data": {
      "text/plain": [
       "(-100.0, 0.0)"
      ]
     },
     "execution_count": 9,
     "metadata": {},
     "output_type": "execute_result"
    },
    {
     "data": {
      "image/png": "[encoded data removed]",
      "text/plain": [
       "<Figure size 432x288 with 1 Axes>"
      ]
     },
     "metadata": {
      "needs_background": "light"
     },
     "output_type": "display_data"
    }
   ],
   "source": [
    "print('asymptotic')\n",
    "R_mean = [np.mean(r) for r in rewards_eps]\n",
    "plt.plot(np.linspace(0.05, 1, 20), R_mean, label='sarsa')\n",
    "plt.legend()\n",
    "plt.ylim((-100,0))"
   ]
  },
  {
   "cell_type": "code",
   "execution_count": 12,
   "id": "da4af964",
   "metadata": {},
   "outputs": [
    {
     "name": "stdout",
     "output_type": "stream",
     "text": [
      "initial\n"
     ]
    },
    {
     "data": {
      "text/plain": [
       "(-100.0, 0.0)"
      ]
     },
     "execution_count": 12,
     "metadata": {},
     "output_type": "execute_result"
    },
    {
     "data": {
      "image/png": "[encoded data removed]",
      "text/plain": [
       "<Figure size 432x288 with 1 Axes>"
      ]
     },
     "metadata": {
      "needs_background": "light"
     },
     "output_type": "display_data"
    }
   ],
   "source": [
    "print('initial')\n",
    "R_mean = [np.mean(r[:100]) for r in rewards_eps]\n",
    "plt.plot(np.linspace(0.05, 1, 20), R_mean, label='sarsa')\n",
    "plt.legend()\n",
    "plt.ylim((-100,0))"
   ]
  },
  {
   "cell_type": "code",
   "execution_count": 11,
   "id": "fc6bbffe",
   "metadata": {},
   "outputs": [
    {
     "name": "stdout",
     "output_type": "stream",
     "text": [
      "initial\n"
     ]
    },
    {
     "data": {
      "text/plain": [
       "<matplotlib.legend.Legend at 0x7fc58ccb8a60>"
      ]
     },
     "execution_count": 11,
     "metadata": {},
     "output_type": "execute_result"
    },
    {
     "data": {
      "image/png": "[encoded data removed]",
      "text/plain": [
       "<Figure size 432x288 with 1 Axes>"
      ]
     },
     "metadata": {
      "needs_background": "light"
     },
     "output_type": "display_data"
    }
   ],
   "source": [
    "print('initial')\n",
    "R_mean = [np.mean(r[:100]) for r in rewards_eps]\n",
    "plt.plot(np.linspace(0.05, 1, 20), R_mean, label='sarsa')\n",
    "plt.legend()\n",
    "# plt.ylim((-100,0))"
   ]
  },
  {
   "cell_type": "code",
   "execution_count": null,
   "id": "d2ebe058",
   "metadata": {},
   "outputs": [],
   "source": []
  }
 ],
 "metadata": {
  "kernelspec": {
   "display_name": "Python 3 (ipykernel)",
   "language": "python",
   "name": "python3"
  },
  "language_info": {
   "codemirror_mode": {
    "name": "ipython",
    "version": 3
   },
   "file_extension": ".py",
   "mimetype": "text/x-python",
   "name": "python",
   "nbconvert_exporter": "python",
   "pygments_lexer": "ipython3",
   "version": "3.8.10"
  }
 },
 "nbformat": 4,
 "nbformat_minor": 5
}
