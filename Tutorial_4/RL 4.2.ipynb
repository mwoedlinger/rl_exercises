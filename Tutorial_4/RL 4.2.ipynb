{
 "cells": [
  {
   "cell_type": "markdown",
   "id": "d91a22a5",
   "metadata": {},
   "source": [
    "### td/tab/doubleqlearning – Tabular Double 𝑄-learning (programming)"
   ]
  },
  {
   "cell_type": "markdown",
   "id": "f09a7f86",
   "metadata": {},
   "source": [
    "Implement Double 𝑄-learning for estimating 𝑄1 ≈ 𝑄2 ≈ 𝑞∗ and use it\n",
    "to estimate 𝜋∗\n",
    "for cliff walking in Exercise gw/cliff."
   ]
  },
  {
   "cell_type": "code",
   "execution_count": 1,
   "id": "281897a5",
   "metadata": {},
   "outputs": [],
   "source": [
    "import numpy as np\n",
    "from matplotlib import pyplot as plt\n",
    "from random import choice, random, randint\n",
    "\n",
    "from tqdm import tqdm_notebook as tqdm"
   ]
  },
  {
   "cell_type": "code",
   "execution_count": 2,
   "id": "a17f72ab",
   "metadata": {},
   "outputs": [],
   "source": [
    "class GridCliff:\n",
    "    \n",
    "    def __init__(self, h, w):\n",
    "        self.w = w\n",
    "        self.h = h\n",
    "        \n",
    "        self.actions = [0, 1, 2, 3] #up, down, left, right\n",
    "        \n",
    "        self.start = h*w\n",
    "        self.goal = (h+1)*w-1\n",
    "        \n",
    "        self.terminal = [self.goal]\n",
    "        self.states = [s for s in range(h*w)] + [self.start, self.goal]\n",
    "        self.cliff = [s for s in range(self.start+1, self.goal)]\n",
    "        \n",
    "        self.num_states = h*w + w\n",
    "        self.num_actions = len(self.actions)\n",
    "        \n",
    "        #### state numbering ####\n",
    "        # 0  1  2  3  4  5 \n",
    "        # 6  7  8  9  10 11\n",
    "        # 12 13 14 15 16 17\n",
    "        # 18 #  #  #  #  23\n",
    "        \n",
    "        # 18 and 23 are the final states\n",
    "        #### state numbering ####\n",
    "        \n",
    "    def state_coordinates(self, s):\n",
    "        return (s // self.w, s % self.w)\n",
    "        \n",
    "    def step(self, s, a):\n",
    "        assert s in (self.states + [self.start, self.goal]), f'{s=} not valid.'\n",
    "        \n",
    "        action_values = [-self.w, +self.w, -1, +1]\n",
    "        sprime = s + action_values[a]\n",
    "        \n",
    "        if sprime in self.cliff:\n",
    "            return self.start, -100\n",
    "        elif (s // self.w) != (sprime // self.w) and a > 1: # out horizontally\n",
    "            return s, -1\n",
    "        elif sprime not in self.states: # out vertically\n",
    "            return s, -1\n",
    "        else:\n",
    "            return sprime, -1"
   ]
  },
  {
   "cell_type": "code",
   "execution_count": 3,
   "id": "2866e104",
   "metadata": {},
   "outputs": [],
   "source": [
    "def epsilon_greedy_action(Q, s, ϵ):\n",
    "    A = len(Q[s, :])\n",
    "    \n",
    "    if random() < ϵ:\n",
    "        return randint(0, A-1)\n",
    "    else:\n",
    "        return Q[s, :].argmax()  \n",
    "    \n",
    "def greedy_action(Q, s):\n",
    "    return Q[s, :].argmax()\n",
    "\n",
    "def double_q_learning(world, ϵ=0.1, α=0.1, γ=0.9, num_episodes=10, max_steps=100):\n",
    "    \n",
    "    # Initialize Q_1 and Q_2\n",
    "    Q_1 = np.random.random((world.num_states, world.num_actions))\n",
    "    Q_2 = np.random.random((world.num_states, world.num_actions))\n",
    "    for t in world.terminal:\n",
    "        Q_1[t] = 0\n",
    "        Q_2[t] = 0\n",
    "    for t in world.cliff:\n",
    "        Q_1[t] = np.nan\n",
    "        Q_2[t] = np.nan\n",
    "        \n",
    "    # Loop through episodes\n",
    "    for ep in tqdm(range(num_episodes)):\n",
    "        S = choice(world.states) # pick random state\n",
    "        \n",
    "        for step in range(max_steps):\n",
    "            if S in world.terminal: # if S terminal end episode\n",
    "                break\n",
    "    \n",
    "            # Step with ϵ-greedy action derived from Q_1 and Q_2\n",
    "            A = epsilon_greedy_action(Q_1 + Q_2, S, ϵ)\n",
    "            Sprime, R = world.step(S, A)\n",
    "            \n",
    "            # Update Q_1 or Q_2\n",
    "            if random() > 0.5:\n",
    "                Q_1[S, A] = Q_1[S, A] + α*(R + γ*Q_2[Sprime, greedy_action(Q_1, Sprime)] - Q_1[S, A])\n",
    "            else:\n",
    "                Q_2[S, A] = Q_2[S, A] + α*(R + γ*Q_1[Sprime, greedy_action(Q_2, Sprime)] - Q_2[S, A])\n",
    "                \n",
    "            # Save current state\n",
    "            S = Sprime\n",
    "        \n",
    "    return Q_1, Q_2"
   ]
  },
  {
   "cell_type": "code",
   "execution_count": 4,
   "id": "47373ef8",
   "metadata": {},
   "outputs": [],
   "source": [
    "h, w = 3, 6\n",
    "\n",
    "cliff = GridCliff(h, w)"
   ]
  },
  {
   "cell_type": "code",
   "execution_count": 28,
   "id": "86f663aa",
   "metadata": {},
   "outputs": [
    {
     "name": "stderr",
     "output_type": "stream",
     "text": [
      "/tmp/ipykernel_603/3330293162.py:25: TqdmDeprecationWarning: This function will be removed in tqdm==5.0.0\n",
      "Please use `tqdm.notebook.tqdm` instead of `tqdm.tqdm_notebook`\n",
      "  for ep in tqdm(range(num_episodes)):\n"
     ]
    },
    {
     "data": {
      "application/vnd.jupyter.widget-view+json": {
       "model_id": "f2c03d65baac49ce81e3acd2a9242a0d",
       "version_major": 2,
       "version_minor": 0
      },
      "text/plain": [
       "  0%|          | 0/400000 [00:00<?, ?it/s]"
      ]
     },
     "metadata": {},
     "output_type": "display_data"
    }
   ],
   "source": [
    "Q_out_1, Q_out_2 = double_q_learning(cliff, ϵ=0.1, α=0.1, γ=1.0, num_episodes=400000, max_steps=1000)"
   ]
  },
  {
   "cell_type": "code",
   "execution_count": 48,
   "id": "519b1bcb",
   "metadata": {},
   "outputs": [
    {
     "name": "stdout",
     "output_type": "stream",
     "text": [
      "[[-8. -7. -6. -5. -4. -3.]\n",
      " [-7. -6. -5. -4. -3. -2.]\n",
      " [-6. -5. -4. -3. -2. -1.]\n",
      " [-7. nan nan nan nan  0.]]\n"
     ]
    }
   ],
   "source": [
    "# Q_out = (Q_out_1 + Q_out_2)/2\n",
    "Q_out = Q_out_1\n",
    "\n",
    "π_greedy = np.ones((cliff.num_states, cliff.num_actions))\n",
    "for s in cliff.states:\n",
    "    π_greedy[s] = np.eye(cliff.num_actions)[Q_out[s, :].argmax()] \n",
    "    \n",
    "π_2d = np.ones((h+1, w, 4))\n",
    "for s in (cliff.states + cliff.cliff):\n",
    "    s_coord = cliff.state_coordinates(s)\n",
    "    π_2d[s_coord[0], s_coord[1], :] = π_greedy[s]\n",
    "for s in cliff.cliff:\n",
    "    s_coord = cliff.state_coordinates(s)\n",
    "    π_2d[s_coord[0], s_coord[1], :] = np.nan\n",
    "\n",
    "V_out = np.ones((h+1, w))\n",
    "for s in (cliff.states + cliff.cliff):\n",
    "    s_coord = cliff.state_coordinates(s)\n",
    "    V_out[s_coord] = (π_greedy*Q_out).sum(axis=-1)[s]\n",
    "    \n",
    "print(V_out.round(decimals=2))"
   ]
  },
  {
   "cell_type": "code",
   "execution_count": 49,
   "id": "52102667",
   "metadata": {},
   "outputs": [
    {
     "name": "stdout",
     "output_type": "stream",
     "text": [
      "up\n"
     ]
    },
    {
     "data": {
      "text/plain": [
       "<matplotlib.image.AxesImage at 0x7f428f41c3a0>"
      ]
     },
     "execution_count": 49,
     "metadata": {},
     "output_type": "execute_result"
    },
    {
     "data": {
      "image/png": "[encoded data removed]",
      "text/plain": [
       "<Figure size 432x288 with 1 Axes>"
      ]
     },
     "metadata": {
      "needs_background": "light"
     },
     "output_type": "display_data"
    }
   ],
   "source": [
    "print('up')\n",
    "plt.imshow(π_2d[:,:,0])"
   ]
  },
  {
   "cell_type": "code",
   "execution_count": 50,
   "id": "2dd35151",
   "metadata": {},
   "outputs": [
    {
     "name": "stdout",
     "output_type": "stream",
     "text": [
      "down\n"
     ]
    },
    {
     "data": {
      "text/plain": [
       "<matplotlib.image.AxesImage at 0x7f428f3fbbb0>"
      ]
     },
     "execution_count": 50,
     "metadata": {},
     "output_type": "execute_result"
    },
    {
     "data": {
      "image/png": "[encoded data removed]",
      "text/plain": [
       "<Figure size 432x288 with 1 Axes>"
      ]
     },
     "metadata": {
      "needs_background": "light"
     },
     "output_type": "display_data"
    }
   ],
   "source": [
    "print('down')\n",
    "plt.imshow(π_2d[:,:,1])"
   ]
  },
  {
   "cell_type": "code",
   "execution_count": 51,
   "id": "b358c15a",
   "metadata": {},
   "outputs": [
    {
     "name": "stdout",
     "output_type": "stream",
     "text": [
      "left\n"
     ]
    },
    {
     "data": {
      "text/plain": [
       "<matplotlib.image.AxesImage at 0x7f428f366400>"
      ]
     },
     "execution_count": 51,
     "metadata": {},
     "output_type": "execute_result"
    },
    {
     "data": {
      "image/png": "[encoded data removed]",
      "text/plain": [
       "<Figure size 432x288 with 1 Axes>"
      ]
     },
     "metadata": {
      "needs_background": "light"
     },
     "output_type": "display_data"
    }
   ],
   "source": [
    "print('left')\n",
    "plt.imshow(π_2d[:,:,2])"
   ]
  },
  {
   "cell_type": "code",
   "execution_count": 52,
   "id": "b405250f",
   "metadata": {},
   "outputs": [
    {
     "name": "stdout",
     "output_type": "stream",
     "text": [
      "right\n"
     ]
    },
    {
     "data": {
      "text/plain": [
       "<matplotlib.image.AxesImage at 0x7f428f338c70>"
      ]
     },
     "execution_count": 52,
     "metadata": {},
     "output_type": "execute_result"
    },
    {
     "data": {
      "image/png": "[encoded data removed]",
      "text/plain": [
       "<Figure size 432x288 with 1 Axes>"
      ]
     },
     "metadata": {
      "needs_background": "light"
     },
     "output_type": "display_data"
    }
   ],
   "source": [
    "print('right')\n",
    "plt.imshow(π_2d[:,:,3])"
   ]
  },
  {
   "cell_type": "code",
   "execution_count": 53,
   "id": "340a0631",
   "metadata": {},
   "outputs": [
    {
     "data": {
      "text/plain": [
       "<matplotlib.image.AxesImage at 0x7f428f2b7160>"
      ]
     },
     "execution_count": 53,
     "metadata": {},
     "output_type": "execute_result"
    },
    {
     "data": {
      "image/png": "[encoded data removed]",
      "text/plain": [
       "<Figure size 432x288 with 1 Axes>"
      ]
     },
     "metadata": {
      "needs_background": "light"
     },
     "output_type": "display_data"
    }
   ],
   "source": [
    "plt.imshow(V_out)"
   ]
  },
  {
   "cell_type": "code",
   "execution_count": 54,
   "id": "82c0b07a",
   "metadata": {},
   "outputs": [
    {
     "name": "stdout",
     "output_type": "stream",
     "text": [
      "\n",
      " → ↓ ↓ ↓ ↓ ↓\n",
      " → ↓ ↓ ↓ ↓ ↓\n",
      " → → → → → ↓\n",
      " ↑         ↑\n",
      "\n"
     ]
    }
   ],
   "source": [
    "actions = ''\n",
    "pi_str = ''\n",
    "for s in range(h*w+w):\n",
    "    if s % w == 0:\n",
    "        pi_str += actions + '\\n'\n",
    "        actions = ''\n",
    "    if s in cliff.cliff:\n",
    "        actions += '  '\n",
    "    else:\n",
    "        actions += ' ' + ['↑', '↓', '←', '→'][π_greedy[s].argmax()]\n",
    "pi_str += actions + '\\n'\n",
    "\n",
    "print(pi_str)"
   ]
  },
  {
   "cell_type": "code",
   "execution_count": null,
   "id": "a32112df",
   "metadata": {},
   "outputs": [],
   "source": []
  }
 ],
 "metadata": {
  "kernelspec": {
   "display_name": "Python 3 (ipykernel)",
   "language": "python",
   "name": "python3"
  },
  "language_info": {
   "codemirror_mode": {
    "name": "ipython",
    "version": 3
   },
   "file_extension": ".py",
   "mimetype": "text/x-python",
   "name": "python",
   "nbconvert_exporter": "python",
   "pygments_lexer": "ipython3",
   "version": "3.8.10"
  }
 },
 "nbformat": 4,
 "nbformat_minor": 5
}
