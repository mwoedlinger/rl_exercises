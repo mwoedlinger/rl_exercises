{
 "cells": [
  {
   "cell_type": "markdown",
   "id": "d91a22a5",
   "metadata": {},
   "source": [
    "###  Episodic one-step actor-critic (programming)"
   ]
  },
  {
   "cell_type": "markdown",
   "id": "f09a7f86",
   "metadata": {},
   "source": [
    "Implement the one-step actor-critic algorithm for episodic tasks and\n",
    "apply it to one of the environments that you have implemented previ\u0002ously. How does the algorithm compare to other ones?"
   ]
  },
  {
   "cell_type": "code",
   "execution_count": 1,
   "id": "281897a5",
   "metadata": {},
   "outputs": [],
   "source": [
    "import numpy as np\n",
    "from matplotlib import pyplot as plt\n",
    "from random import choice, random, randint\n",
    "from tqdm import tqdm_notebook as tqdm"
   ]
  },
  {
   "cell_type": "code",
   "execution_count": 2,
   "id": "a17f72ab",
   "metadata": {},
   "outputs": [],
   "source": [
    "class Grid:\n",
    "    \n",
    "    def __init__(self, h, w):\n",
    "        self.w = w\n",
    "        self.h = h\n",
    "        \n",
    "        self.actions = [0, 1, 2, 3] #up, down, left, right\n",
    "        \n",
    "        self.start = w-1\n",
    "        self.goal = 0\n",
    "        \n",
    "        self.terminal = [self.goal]\n",
    "        self.states = [s for s in range(0, h*w)]\n",
    "        self.cliff = []\n",
    "#         self.states = [s for s in range(w, h*w)] + [self.start, self.goal]\n",
    "#         self.cliff = [s for s in range(self.goal+1, self.start)]\n",
    "        \n",
    "        self.num_states = h*w\n",
    "        self.num_actions = len(self.actions)\n",
    "        \n",
    "        #### state numbering ####\n",
    "        # 0  1  2  3  4  5 \n",
    "        # 6  7  8  9  10 11\n",
    "        # 12 13 14 15 16 17\n",
    "        # 18 19 20 21 22 23\n",
    "        \n",
    "        # 0 is the final state\n",
    "        # 5 is the starting state\n",
    "        #### state numbering ####\n",
    "        \n",
    "    def state_coordinates(self, s):\n",
    "        return (s // self.w, s % self.w)\n",
    "        \n",
    "    def step(self, s, a):\n",
    "        assert s in (self.states + [self.start, self.goal]), f'{s=} not valid.'\n",
    "        \n",
    "        if s in self.terminal:\n",
    "            return s, 0\n",
    "        \n",
    "        action_values = [-self.w, +self.w, -1, +1]\n",
    "        sprime = s + action_values[a]\n",
    "        \n",
    "        if sprime in self.cliff:\n",
    "            return self.start, -100\n",
    "        elif (s // self.w) != (sprime // self.w) and a > 1: # out horizontally\n",
    "            return s, -1\n",
    "        elif sprime not in self.states: # out vertically\n",
    "            return s, -1\n",
    "        else:\n",
    "            return sprime, -1\n",
    "\n",
    "# Returns ground truth value function for the optimal policy\n",
    "def get_GT(grid):\n",
    "    w = grid.w\n",
    "    h = grid.h\n",
    "    \n",
    "    v = np.zeros((h, w))\n",
    "    v_states = np.zeros(h*w)\n",
    "    \n",
    "    for x in range(w):\n",
    "        for y in range(h):\n",
    "            v[y, x] = x + y\n",
    "            v_states[y*w + x] = x + y\n",
    "    for x in range(w):\n",
    "        v[0, x] = np.nan\n",
    "        v_states[x] = np.nan\n",
    "            \n",
    "    v[0, 0] = 0\n",
    "    v_states[0] = 0\n",
    "    v[0, w-1] = w+1\n",
    "    v_states[w-1] = w+1\n",
    "            \n",
    "    return -v, -v_states"
   ]
  },
  {
   "cell_type": "code",
   "execution_count": 29,
   "id": "81da9dfe",
   "metadata": {},
   "outputs": [],
   "source": [
    "# The features return the a'th unit vector times the distance relevant to the action\n",
    "# (for example for 'up' that would be the difference in the y direction, while for down it would the negative of that)\n",
    "def sa_features(s, a, grid):\n",
    "    ty, tx = grid.state_coordinates(grid.terminal[0])\n",
    "    sy, sx = grid.state_coordinates(s)\n",
    "    \n",
    "    unit = np.eye(len(grid.actions))[a]\n",
    "    \n",
    "    if a == 0: # up\n",
    "        return unit*(sy - ty)\n",
    "    elif a == 1: # down\n",
    "        return unit*(ty - sy)\n",
    "    elif a == 2: # right\n",
    "        return unit*(tx - sx)\n",
    "    elif a == 3: # left\n",
    "        return unit*(sx - tx)\n",
    "    else:\n",
    "        raise NotImplementedError\n",
    "\n",
    "# optimal features, feels almost like cheating, alternatively the ones below also work\n",
    "def s_features(s, grid):\n",
    "    ty, tx = grid.state_coordinates(grid.terminal[0])\n",
    "    sy, sx = grid.state_coordinates(s)\n",
    "    \n",
    "    # The feature is the manhatten distance between s and the terminal state\n",
    "    return np.array([(sy-ty) + (sx-tx)])\n",
    "    \n",
    "# def s_features(s, grid):\n",
    "#     t_coords = grid.state_coordinates(grid.terminal[0])\n",
    "#     s_coords = grid.state_coordinates(s)\n",
    "    \n",
    "#     dist = np.sqrt(((np.array(t_coords) - np.array(s_coords))**2).sum())\n",
    "#     x = s_coords + (dist,)\n",
    "    \n",
    "#     return np.array(x)\n",
    "\n",
    "# Linear preferences\n",
    "def policy(s, theta, env):\n",
    "    unnormalized = np.array([np.exp(theta @ sa_features(s, a, env)) for a in env.actions])\n",
    "    return unnormalized/unnormalized.sum()\n",
    "\n",
    "# Linear value fct\n",
    "def value(s, w, env):\n",
    "    return w @ s_features(s, env)"
   ]
  },
  {
   "cell_type": "code",
   "execution_count": 61,
   "id": "c3ee4ed4",
   "metadata": {},
   "outputs": [],
   "source": [
    "def one_step_actor_critic(grid, alpha_theta=0.01, alpha_w=0.01, episodes=1000, gamma=1.0, max_steps=100):\n",
    "    theta = np.zeros(len(sa_features(0,0,grid)))\n",
    "    w = np.zeros(len(s_features(0,grid)))\n",
    "    I = 1.0\n",
    "    rewards = []\n",
    "    episode_steps = []\n",
    "                 \n",
    "    for ep in tqdm(range(episodes)):\n",
    "        S = choice(grid.states)\n",
    "        I = 1\n",
    "        reward = 0\n",
    "        \n",
    "        for step in range(max_steps):\n",
    "            policy_probs = policy(S, theta, grid)\n",
    "            A = np.random.choice(grid.actions, p=policy_probs)\n",
    "            S_prime, R = grid.step(S, A)\n",
    "            \n",
    "#             print(f'   {step=}, {S=}, {A=}, {S_prime=}')\n",
    "            delta = R + gamma*value(S_prime, w, grid) - value(S, w, grid)\n",
    "            w = w + alpha_w*delta*s_features(S, grid)\n",
    "            derivative_log_policy = sa_features(S, A, grid) - np.sum([policy_probs[a]*sa_features(S, a, grid) for a in grid.actions])\n",
    "\n",
    "            theta = theta + alpha_theta*I*delta*derivative_log_policy\n",
    "\n",
    "            I = gamma*I\n",
    "            S = S_prime\n",
    "            \n",
    "            reward += R\n",
    "            if S_prime == grid.goal:\n",
    "                break\n",
    "                \n",
    "#         print(f'{ep=}, {reward=}, {step=}')\n",
    "        rewards.append(reward)\n",
    "        episode_steps.append(step)\n",
    "        \n",
    "    return theta, w, rewards, episode_steps   "
   ]
  },
  {
   "cell_type": "code",
   "execution_count": 62,
   "id": "ce97495d",
   "metadata": {},
   "outputs": [],
   "source": [
    "h, w = 4, 6\n",
    "\n",
    "g = Grid(h, w)"
   ]
  },
  {
   "cell_type": "code",
   "execution_count": 99,
   "id": "a5a8b861",
   "metadata": {},
   "outputs": [
    {
     "name": "stderr",
     "output_type": "stream",
     "text": [
      "/tmp/ipykernel_149/2408828557.py:8: TqdmDeprecationWarning: This function will be removed in tqdm==5.0.0\n",
      "Please use `tqdm.notebook.tqdm` instead of `tqdm.tqdm_notebook`\n",
      "  for ep in tqdm(range(episodes)):\n"
     ]
    },
    {
     "data": {
      "application/vnd.jupyter.widget-view+json": {
       "model_id": "688d943446504d45a61b2f0a4969ae73",
       "version_major": 2,
       "version_minor": 0
      },
      "text/plain": [
       "  0%|          | 0/4000 [00:00<?, ?it/s]"
      ]
     },
     "metadata": {},
     "output_type": "display_data"
    }
   ],
   "source": [
    "theta_out, w_out, rewards_list, step_list = one_step_actor_critic(g, gamma=1.0, alpha_w=0.01, alpha_theta=0.01, episodes=4000)"
   ]
  },
  {
   "cell_type": "code",
   "execution_count": 100,
   "id": "caad71a9",
   "metadata": {},
   "outputs": [
    {
     "data": {
      "text/plain": [
       "array([ 4.21316227,  2.81169247, -4.19461197, -0.99845731])"
      ]
     },
     "execution_count": 100,
     "metadata": {},
     "output_type": "execute_result"
    }
   ],
   "source": [
    "theta_out"
   ]
  },
  {
   "cell_type": "code",
   "execution_count": 101,
   "id": "accc720c",
   "metadata": {},
   "outputs": [
    {
     "data": {
      "text/plain": [
       "array([-1.00849151])"
      ]
     },
     "execution_count": 101,
     "metadata": {},
     "output_type": "execute_result"
    }
   ],
   "source": [
    "w_out"
   ]
  },
  {
   "cell_type": "code",
   "execution_count": 115,
   "id": "563f20d9",
   "metadata": {},
   "outputs": [
    {
     "name": "stdout",
     "output_type": "stream",
     "text": [
      "reward stats (first 100 episodes):\n",
      "mean: -4.602, std: 3.0619595033246276\n"
     ]
    }
   ],
   "source": [
    "print('reward stats (first 100 episodes):')\n",
    "print(f'mean: {np.mean(rewards_list[:1000])}, std: {np.std(rewards_list[:1000])}')"
   ]
  },
  {
   "cell_type": "code",
   "execution_count": 103,
   "id": "390532e4",
   "metadata": {},
   "outputs": [
    {
     "name": "stdout",
     "output_type": "stream",
     "text": [
      "reward stats (last 1000 episodes):\n",
      "mean: -4.005, std: 2.0884543726561677\n"
     ]
    }
   ],
   "source": [
    "print('reward stats (last 1000 episodes):')\n",
    "print(f'mean: {np.mean(rewards_list[1000:])}, std: {np.std(rewards_list[1000:])}')"
   ]
  },
  {
   "cell_type": "code",
   "execution_count": 116,
   "id": "c49d89b4",
   "metadata": {},
   "outputs": [
    {
     "name": "stdout",
     "output_type": "stream",
     "text": [
      "step stats (first 100 episodes):\n",
      "mean: 3.648, std: 2.99934926275684\n"
     ]
    }
   ],
   "source": [
    "print('step stats (first 100 episodes):')\n",
    "print(f'mean: {np.mean(step_list[:1000])}, std: {np.std(step_list[:1000])}')"
   ]
  },
  {
   "cell_type": "code",
   "execution_count": 105,
   "id": "b341e2bc",
   "metadata": {},
   "outputs": [
    {
     "name": "stdout",
     "output_type": "stream",
     "text": [
      "step stats (last 1000 episodes):\n",
      "mean: 3.050666666666667, std: 2.009834045111409\n"
     ]
    }
   ],
   "source": [
    "print('step stats (last 1000 episodes):')\n",
    "print(f'mean: {np.mean(step_list[1000:])}, std: {np.std(step_list[1000:])}')"
   ]
  },
  {
   "cell_type": "code",
   "execution_count": 106,
   "id": "89536e51",
   "metadata": {},
   "outputs": [
    {
     "name": "stdout",
     "output_type": "stream",
     "text": [
      "The average reward per epoch\n"
     ]
    },
    {
     "data": {
      "text/plain": [
       "[<matplotlib.lines.Line2D at 0x7fba4c2ab790>]"
      ]
     },
     "execution_count": 106,
     "metadata": {},
     "output_type": "execute_result"
    },
    {
     "data": {
      "image/png": "[encoded data removed]",
      "text/plain": [
       "<Figure size 432x288 with 1 Axes>"
      ]
     },
     "metadata": {
      "needs_background": "light"
     },
     "output_type": "display_data"
    }
   ],
   "source": [
    "print('The average reward per epoch')\n",
    "plt.plot(rewards_list)"
   ]
  },
  {
   "cell_type": "code",
   "execution_count": 107,
   "id": "3531e23a",
   "metadata": {},
   "outputs": [
    {
     "name": "stdout",
     "output_type": "stream",
     "text": [
      "The average number of steps per epoch\n"
     ]
    },
    {
     "data": {
      "text/plain": [
       "[<matplotlib.lines.Line2D at 0x7fba4c209460>]"
      ]
     },
     "execution_count": 107,
     "metadata": {},
     "output_type": "execute_result"
    },
    {
     "data": {
      "image/png": "[encoded data removed]",
      "text/plain": [
       "<Figure size 432x288 with 1 Axes>"
      ]
     },
     "metadata": {
      "needs_background": "light"
     },
     "output_type": "display_data"
    }
   ],
   "source": [
    "print('The average number of steps per epoch')\n",
    "plt.plot(step_list)"
   ]
  },
  {
   "cell_type": "code",
   "execution_count": 108,
   "id": "d46df31b",
   "metadata": {},
   "outputs": [],
   "source": [
    "V = np.zeros([h, w])\n",
    "\n",
    "for s in g.states:\n",
    "    sy, sx = g.state_coordinates(s)\n",
    "    V[sy, sx] = value(s, w_out, g)"
   ]
  },
  {
   "cell_type": "code",
   "execution_count": 109,
   "id": "57717bd8",
   "metadata": {},
   "outputs": [
    {
     "name": "stdout",
     "output_type": "stream",
     "text": [
      "Value function\n",
      "[[ 0.   -1.01 -2.02 -3.03 -4.03 -5.04]\n",
      " [-1.01 -2.02 -3.03 -4.03 -5.04 -6.05]\n",
      " [-2.02 -3.03 -4.03 -5.04 -6.05 -7.06]\n",
      " [-3.03 -4.03 -5.04 -6.05 -7.06 -8.07]]\n"
     ]
    },
    {
     "data": {
      "text/plain": [
       "<matplotlib.image.AxesImage at 0x7fba4c1f8130>"
      ]
     },
     "execution_count": 109,
     "metadata": {},
     "output_type": "execute_result"
    },
    {
     "data": {
      "image/png": "[encoded data removed]",
      "text/plain": [
       "<Figure size 432x288 with 1 Axes>"
      ]
     },
     "metadata": {
      "needs_background": "light"
     },
     "output_type": "display_data"
    }
   ],
   "source": [
    "print('Value function')\n",
    "print(V.round(decimals=2))\n",
    "plt.imshow(V)"
   ]
  },
  {
   "cell_type": "code",
   "execution_count": 110,
   "id": "ff910f85",
   "metadata": {},
   "outputs": [],
   "source": [
    "π = np.zeros([h, w, len(g.actions)])\n",
    "\n",
    "for s in g.states:\n",
    "    sy, sx = g.state_coordinates(s)\n",
    "    π[sy, sx] = policy(s, theta_out, g)"
   ]
  },
  {
   "cell_type": "code",
   "execution_count": 111,
   "id": "f64036ba",
   "metadata": {},
   "outputs": [
    {
     "name": "stdout",
     "output_type": "stream",
     "text": [
      "UP\n",
      "[[0.25 0.01 0.   0.   0.   0.  ]\n",
      " [0.97 0.5  0.02 0.   0.   0.  ]\n",
      " [1.   0.99 0.51 0.02 0.   0.  ]\n",
      " [1.   1.   0.99 0.51 0.02 0.  ]]\n"
     ]
    },
    {
     "data": {
      "text/plain": [
       "<matplotlib.image.AxesImage at 0x7fba4c152160>"
      ]
     },
     "execution_count": 111,
     "metadata": {},
     "output_type": "execute_result"
    },
    {
     "data": {
      "image/png": "[encoded data removed]",
      "text/plain": [
       "<Figure size 432x288 with 1 Axes>"
      ]
     },
     "metadata": {
      "needs_background": "light"
     },
     "output_type": "display_data"
    }
   ],
   "source": [
    "print('UP')\n",
    "print(π[:,:,0].round(decimals=2))\n",
    "plt.imshow(π[:,:,0])"
   ]
  },
  {
   "cell_type": "code",
   "execution_count": 112,
   "id": "b6d5ad14",
   "metadata": {},
   "outputs": [
    {
     "name": "stdout",
     "output_type": "stream",
     "text": [
      "DOWN\n",
      "[[0.25 0.01 0.   0.   0.   0.  ]\n",
      " [0.   0.   0.   0.   0.   0.  ]\n",
      " [0.   0.   0.   0.   0.   0.  ]\n",
      " [0.   0.   0.   0.   0.   0.  ]]\n"
     ]
    },
    {
     "data": {
      "text/plain": [
       "<matplotlib.image.AxesImage at 0x7fba4c1308b0>"
      ]
     },
     "execution_count": 112,
     "metadata": {},
     "output_type": "execute_result"
    },
    {
     "data": {
      "image/png": "[encoded data removed]",
      "text/plain": [
       "<Figure size 432x288 with 1 Axes>"
      ]
     },
     "metadata": {
      "needs_background": "light"
     },
     "output_type": "display_data"
    }
   ],
   "source": [
    "print('DOWN')\n",
    "print(π[:,:,1].round(decimals=2))\n",
    "plt.imshow(π[:,:,1])"
   ]
  },
  {
   "cell_type": "code",
   "execution_count": 113,
   "id": "6ba2c75f",
   "metadata": {},
   "outputs": [
    {
     "name": "stdout",
     "output_type": "stream",
     "text": [
      "LEFT\n",
      "[[0.25 0.97 1.   1.   1.   1.  ]\n",
      " [0.01 0.49 0.98 1.   1.   1.  ]\n",
      " [0.   0.01 0.49 0.98 1.   1.  ]\n",
      " [0.   0.   0.01 0.49 0.98 1.  ]]\n"
     ]
    },
    {
     "data": {
      "text/plain": [
       "<matplotlib.image.AxesImage at 0x7fba4c0a0f40>"
      ]
     },
     "execution_count": 113,
     "metadata": {},
     "output_type": "execute_result"
    },
    {
     "data": {
      "image/png": "[encoded data removed]",
      "text/plain": [
       "<Figure size 432x288 with 1 Axes>"
      ]
     },
     "metadata": {
      "needs_background": "light"
     },
     "output_type": "display_data"
    }
   ],
   "source": [
    "print('LEFT')\n",
    "print(π[:,:,2].round(decimals=2))\n",
    "plt.imshow(π[:,:,2])"
   ]
  },
  {
   "cell_type": "code",
   "execution_count": 114,
   "id": "e07f340e",
   "metadata": {},
   "outputs": [
    {
     "name": "stdout",
     "output_type": "stream",
     "text": [
      "RIGHT\n",
      "[[0.25 0.01 0.   0.   0.   0.  ]\n",
      " [0.01 0.   0.   0.   0.   0.  ]\n",
      " [0.   0.   0.   0.   0.   0.  ]\n",
      " [0.   0.   0.   0.   0.   0.  ]]\n"
     ]
    },
    {
     "data": {
      "text/plain": [
       "<matplotlib.image.AxesImage at 0x7fba4c07abe0>"
      ]
     },
     "execution_count": 114,
     "metadata": {},
     "output_type": "execute_result"
    },
    {
     "data": {
      "image/png": "[encoded data removed]",
      "text/plain": [
       "<Figure size 432x288 with 1 Axes>"
      ]
     },
     "metadata": {
      "needs_background": "light"
     },
     "output_type": "display_data"
    }
   ],
   "source": [
    "print('RIGHT')\n",
    "print(π[:,:,3].round(decimals=2))\n",
    "plt.imshow(π[:,:,3])"
   ]
  },
  {
   "cell_type": "markdown",
   "id": "26b53a03",
   "metadata": {},
   "source": [
    "How does it compare to other ones? The performance of these methods depends to a very large degree on the qualities of the features. The features must be chosen such that learning the objective is possible. For such a simple problem it's is relatively easy to guess appropriate features, however for more complicated problems handcrafted features are hard to get work which motivates the usage of neural networks."
   ]
  },
  {
   "cell_type": "code",
   "execution_count": null,
   "id": "35968762",
   "metadata": {},
   "outputs": [],
   "source": []
  }
 ],
 "metadata": {
  "kernelspec": {
   "display_name": "Python 3 (ipykernel)",
   "language": "python",
   "name": "python3"
  },
  "language_info": {
   "codemirror_mode": {
    "name": "ipython",
    "version": 3
   },
   "file_extension": ".py",
   "mimetype": "text/x-python",
   "name": "python",
   "nbconvert_exporter": "python",
   "pygments_lexer": "ipython3",
   "version": "3.8.10"
  }
 },
 "nbformat": 4,
 "nbformat_minor": 5
}
