{
 "cells": [
  {
   "cell_type": "markdown",
   "id": "30b33112",
   "metadata": {},
   "source": [
    "### MC/CTRL/IMPL – Off-policy MC control (programming)."
   ]
  },
  {
   "cell_type": "markdown",
   "id": "89efd003",
   "metadata": {},
   "source": [
    "Implement off-policy MC control and use it to estimate 𝜋∗\n",
    "for the grid\n",
    "world in Exercise gw/simple."
   ]
  },
  {
   "cell_type": "code",
   "execution_count": 1,
   "id": "b3b4e7a2",
   "metadata": {},
   "outputs": [],
   "source": [
    "import numpy as np\n",
    "import matplotlib.pyplot as plt\n",
    "from tqdm import tqdm_notebook as tqdm\n",
    "from random import choice, random, randint"
   ]
  },
  {
   "cell_type": "code",
   "execution_count": 2,
   "id": "2bfff365",
   "metadata": {},
   "outputs": [],
   "source": [
    "class Grid:\n",
    "    \n",
    "    def __init__(self, h, w):\n",
    "        self.w = w\n",
    "        self.h = h\n",
    "        \n",
    "        self.actions = [0, 1, 2, 3] #up, down, left, right\n",
    "        \n",
    "        self.states = [s for s in range(h*w)]\n",
    "        self.terminal = [0, (h*w-1)]\n",
    "        \n",
    "        #### state numbering ####\n",
    "        # 0  1  2  3  4  5 \n",
    "        # 6  7  8  9  10 11\n",
    "        # 12 13 14 15 16 17\n",
    "        \n",
    "        # 0 and 17 are the final states\n",
    "        #### state numbering ####\n",
    "        \n",
    "    def state_coordinates(self, s):\n",
    "        return (s // self.w, s % self.w)\n",
    "    \n",
    "    def visualize(self):\n",
    "        vis = np.ones((self.h+1, self.w))\n",
    "        \n",
    "        for s in self.states:\n",
    "            vis[self.state_coordinates(s)] = -1\n",
    "            \n",
    "        for s in self.terminal:\n",
    "            vis[self.state_coordinates(s)] = 1\n",
    "        \n",
    "        plt.imshow(vis)\n",
    "        \n",
    "    def step(self, s, a):\n",
    "        assert s in (self.states), f'{s=} not valid.'\n",
    "        \n",
    "        action_values = [-self.w, +self.w, -1, +1]\n",
    "        sprime = s + action_values[a]\n",
    "        \n",
    "        if (s // self.w) != (sprime // self.w) and a > 1: # out horizontally\n",
    "            return s, -1\n",
    "        elif sprime not in self.states: # out vertically\n",
    "            return s, -1\n",
    "        else:\n",
    "            return sprime, -1\n",
    "        \n",
    "def get_greedy_action(world, Q, s):\n",
    "    \"\"\" Get greedy action from Q as one hot vector \"\"\"\n",
    "    A = len(world.actions) # num of actions, i.e. |A(S)|\n",
    "    return np.eye(A)[Q[s, :].argmax()] \n",
    "\n",
    "def get_epsilon_soft(world, π, ϵ):\n",
    "    \"\"\" Get ϵ soft π policy \"\"\"\n",
    "    A = len(world.actions)\n",
    "    b = (np.ones(π.shape) * ϵ/A) + (π * (1-ϵ))\n",
    "    return b\n",
    "\n",
    "def generate_episode(world, b, s, t): \n",
    "    if s in world.terminal:\n",
    "        return [], [], []\n",
    "    \n",
    "    probs = b[s, :]\n",
    "    a = np.random.choice(world.actions, p=probs)\n",
    "    s_prime, r = world.step(s, a)\n",
    "    \n",
    "    states, actions, rewards = [s], [a], [r]\n",
    "    \n",
    "    if t > 1:                    \n",
    "        s_next, a_next, r_next = generate_episode(world, b, s_prime, t-1)\n",
    "\n",
    "        states = [s] + s_next\n",
    "        actions = [a] + a_next\n",
    "        rewards = [r] + r_next\n",
    "\n",
    "    return states, actions, rewards\n",
    "\n",
    "def off_policy_MC_control(world, ϵ=0.1, T=20, γ=0.9, num_episodes=100):\n",
    "    A = len(world.actions)\n",
    "    S = len(world.states)\n",
    "\n",
    "    π = np.random.random((S, A))\n",
    "    Q = np.random.random((S, A))\n",
    "    for t in world.terminal:\n",
    "        Q[t] = 0\n",
    "        \n",
    "    C = np.zeros((S, A))\n",
    "\n",
    "    # initialize π greedily with respect to Q\n",
    "    for s in world.states:\n",
    "        π[s, :] = get_greedy_action(world, Q, s)\n",
    "\n",
    "    print('loop episodes')\n",
    "    for ep in tqdm(range(num_episodes)):\n",
    "    #         b = softmax(np.ones((4, w, h))) # equiprob\n",
    "        b = get_epsilon_soft(world, π, ϵ) # create soft policy from π\n",
    "\n",
    "        s0 = choice(world.states)\n",
    "        states, actions, rewards = generate_episode(world, b, s0, T) # generate episode from b\n",
    "\n",
    "        G = 0\n",
    "        W = 1\n",
    "\n",
    "        for n in range(len(states)-1, -1, -1):\n",
    "            s = states[n]\n",
    "            a = actions[n]\n",
    "            r = rewards[n]\n",
    "\n",
    "            G = γ*G + r \n",
    "            C[s, a] = C[s, a] + W\n",
    "            \n",
    "            Q[s, a] = Q[s, a] + W/C[s, a] * (G - Q[s, a])\n",
    "            \n",
    "            π[s, :] = get_greedy_action(world, Q, s) # pick π greedy\n",
    "            if a != π[s, :].argmax():\n",
    "                break\n",
    "            else:\n",
    "                W = W/b[s, a]\n",
    "    \n",
    "    return π, Q, C"
   ]
  },
  {
   "cell_type": "code",
   "execution_count": 3,
   "id": "b355f889",
   "metadata": {},
   "outputs": [
    {
     "name": "stdout",
     "output_type": "stream",
     "text": [
      "loop episodes\n"
     ]
    },
    {
     "name": "stderr",
     "output_type": "stream",
     "text": [
      "/tmp/ipykernel_250/2051946136.py:93: TqdmDeprecationWarning: This function will be removed in tqdm==5.0.0\n",
      "Please use `tqdm.notebook.tqdm` instead of `tqdm.tqdm_notebook`\n",
      "  for ep in tqdm(range(num_episodes)):\n"
     ]
    },
    {
     "data": {
      "application/vnd.jupyter.widget-view+json": {
       "model_id": "08c7a25c42994d639e1de7f8e47d63c0",
       "version_major": 2,
       "version_minor": 0
      },
      "text/plain": [
       "  0%|          | 0/100000 [00:00<?, ?it/s]"
      ]
     },
     "metadata": {},
     "output_type": "display_data"
    },
    {
     "name": "stdout",
     "output_type": "stream",
     "text": [
      "[[ 0. -1. -2. -3.]\n",
      " [-1. -2. -3. -2.]\n",
      " [-2. -3. -2. -1.]\n",
      " [-3. -2. -1.  0.]]\n"
     ]
    }
   ],
   "source": [
    "h, w = 4, 4\n",
    "\n",
    "grid = Grid(h,w)\n",
    "\n",
    "π_out, Q_out, C_out = off_policy_MC_control(grid, ϵ=0.1, T=30, γ=1.0, num_episodes=100000)\n",
    "\n",
    "V_out = np.ones((h, w))\n",
    "for s in grid.states:\n",
    "    s_coord = grid.state_coordinates(s)\n",
    "    V_out[s_coord] = (π_out*Q_out).sum(axis=-1)[s]\n",
    "    \n",
    "print(V_out.round(decimals=1))"
   ]
  },
  {
   "cell_type": "code",
   "execution_count": 18,
   "id": "324a3a06",
   "metadata": {},
   "outputs": [
    {
     "data": {
      "text/plain": [
       "<matplotlib.image.AxesImage at 0x7f9e1b7f40a0>"
      ]
     },
     "execution_count": 18,
     "metadata": {},
     "output_type": "execute_result"
    },
    {
     "data": {
      "image/png": "[encoded data removed]",
      "text/plain": [
       "<Figure size 432x288 with 1 Axes>"
      ]
     },
     "metadata": {
      "needs_background": "light"
     },
     "output_type": "display_data"
    }
   ],
   "source": [
    "plt.imshow(V_out)"
   ]
  },
  {
   "cell_type": "code",
   "execution_count": 5,
   "id": "2cee4507",
   "metadata": {},
   "outputs": [
    {
     "data": {
      "text/plain": [
       "array([[ 0.        , -1.        , -1.99966095, -2.99308238],\n",
       "       [-1.        , -1.99978813, -2.98525858, -1.99970132],\n",
       "       [-1.99955165, -2.96763169, -1.99975908, -1.        ],\n",
       "       [-2.98685481, -1.999735  , -1.        ,  0.        ]])"
      ]
     },
     "execution_count": 5,
     "metadata": {},
     "output_type": "execute_result"
    }
   ],
   "source": [
    "V_out"
   ]
  },
  {
   "cell_type": "code",
   "execution_count": 15,
   "id": "a4926917",
   "metadata": {},
   "outputs": [
    {
     "name": "stdout",
     "output_type": "stream",
     "text": [
      "down\n"
     ]
    },
    {
     "data": {
      "text/plain": [
       "<matplotlib.image.AxesImage at 0x7f9e1b7479d0>"
      ]
     },
     "execution_count": 15,
     "metadata": {},
     "output_type": "execute_result"
    },
    {
     "data": {
      "image/png": "[encoded data removed]",
      "text/plain": [
       "<Figure size 432x288 with 1 Axes>"
      ]
     },
     "metadata": {
      "needs_background": "light"
     },
     "output_type": "display_data"
    }
   ],
   "source": [
    "a = 1\n",
    "pi_out = np.ones((h, w))\n",
    "for s in grid.states:\n",
    "    s_coord = grid.state_coordinates(s)\n",
    "    pi_out[s_coord] = π_out[s,a]\n",
    "print(f\"{['up', 'down', 'left', 'right'][a]}\")\n",
    "plt.imshow(pi_out)"
   ]
  },
  {
   "cell_type": "code",
   "execution_count": null,
   "id": "281da5fc",
   "metadata": {},
   "outputs": [],
   "source": []
  },
  {
   "cell_type": "code",
   "execution_count": null,
   "id": "84af9fec",
   "metadata": {},
   "outputs": [],
   "source": []
  }
 ],
 "metadata": {
  "kernelspec": {
   "display_name": "Python 3 (ipykernel)",
   "language": "python",
   "name": "python3"
  },
  "language_info": {
   "codemirror_mode": {
    "name": "ipython",
    "version": 3
   },
   "file_extension": ".py",
   "mimetype": "text/x-python",
   "name": "python",
   "nbconvert_exporter": "python",
   "pygments_lexer": "ipython3",
   "version": "3.8.10"
  }
 },
 "nbformat": 4,
 "nbformat_minor": 5
}
