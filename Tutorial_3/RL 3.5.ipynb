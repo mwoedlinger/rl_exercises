{
 "cells": [
  {
   "cell_type": "markdown",
   "id": "96cb3d64",
   "metadata": {},
   "source": [
    "### TD/TAB/SARSA"
   ]
  },
  {
   "cell_type": "markdown",
   "id": "3130ef86",
   "metadata": {},
   "source": [
    "Implement SARSA for estimating 𝑄 ≈ 𝑞∗ and use it to estimate 𝑞∗\n",
    "for\n",
    "cliff walking in Exercise gw/cliff."
   ]
  },
  {
   "cell_type": "code",
   "execution_count": 1,
   "id": "281897a5",
   "metadata": {},
   "outputs": [],
   "source": [
    "import numpy as np\n",
    "from matplotlib import pyplot as plt\n",
    "from random import choice, random, randint\n",
    "from tqdm import tqdm_notebook as tqdm"
   ]
  },
  {
   "cell_type": "code",
   "execution_count": 2,
   "id": "f195c1c6",
   "metadata": {},
   "outputs": [],
   "source": [
    "class GridCliff:\n",
    "    \n",
    "    def __init__(self, h, w):\n",
    "        self.w = w\n",
    "        self.h = h\n",
    "        \n",
    "        self.actions = [0, 1, 2, 3] #up, down, left, right\n",
    "        \n",
    "        self.start = h*w\n",
    "        self.goal = (h+1)*w-1\n",
    "        \n",
    "        self.terminal = [self.goal]\n",
    "        self.states = [s for s in range(h*w)] + [self.start, self.goal]\n",
    "        self.cliff = [s for s in range(self.start+1, self.goal)]\n",
    "        \n",
    "        self.num_states = h*w + w\n",
    "        self.num_actions = len(self.actions)\n",
    "        \n",
    "        #### state numbering ####\n",
    "        # 0  1  2  3  4  5 \n",
    "        # 6  7  8  9  10 11\n",
    "        # 12 13 14 15 16 17\n",
    "        # 18 #  #  #  #  23\n",
    "        \n",
    "        # 18 and 23 are the final states\n",
    "        #### state numbering ####\n",
    "        \n",
    "    def state_coordinates(self, s):\n",
    "        return (s // self.w, s % self.w)\n",
    "        \n",
    "    def step(self, s, a):\n",
    "        assert s in (self.states + [self.start, self.goal]), f'{s=} not valid.'\n",
    "        \n",
    "        action_values = [-self.w, +self.w, -1, +1]\n",
    "        sprime = s + action_values[a]\n",
    "        \n",
    "        if sprime in self.cliff:\n",
    "            return self.start, -100\n",
    "        elif (s // self.w) != (sprime // self.w) and a > 1: # out horizontally\n",
    "            return s, -1\n",
    "        elif sprime not in self.states: # out vertically\n",
    "            return s, -1\n",
    "        else:\n",
    "            return sprime, -1"
   ]
  },
  {
   "cell_type": "code",
   "execution_count": 3,
   "id": "8bd06b4e",
   "metadata": {},
   "outputs": [],
   "source": [
    "def epsilon_greedy_action(Q, s, ϵ=0.1):\n",
    "    A = len(Q[s, :])\n",
    "    \n",
    "    if random() < ϵ:\n",
    "        return randint(0, A-1)\n",
    "    else:\n",
    "        return Q[s, :].argmax()\n",
    "    \n",
    "\n",
    "def sarsa(world, ϵ=0.1, α=0.1, γ=0.9, num_episodes=10, max_steps=100):\n",
    "    num_A = world.num_actions\n",
    "    num_S = world.num_states\n",
    "    \n",
    "    # Initialize Q\n",
    "    Q = np.random.random((num_S, num_A))\n",
    "    for t in world.terminal:\n",
    "        Q[t] = 0\n",
    "    for t in world.cliff:\n",
    "        Q[t] = np.nan\n",
    "        \n",
    "    # Loop through episodes\n",
    "    for ep in tqdm(range(num_episodes)):\n",
    "        S = choice(world.states) # pick random state\n",
    "        A = epsilon_greedy_action(Q, S, ϵ=0.1) # ϵ-greedy action\n",
    "        \n",
    "        for step in range(max_steps):\n",
    "            if S in world.terminal: # if S terminal end episode\n",
    "                break\n",
    "                \n",
    "            # step with ϵ-greedy action\n",
    "            Sprime, R = world.step(S, A)\n",
    "            Aprime = epsilon_greedy_action(Q, Sprime, ϵ=0.1)\n",
    "            \n",
    "            # Update Q\n",
    "            Q[S, A] = Q[S, A] + α*(R + γ*Q[Sprime, Aprime] - Q[S, A])\n",
    "            \n",
    "            # Save current state and action\n",
    "            S, A = Sprime, Aprime\n",
    "        \n",
    "    return Q"
   ]
  },
  {
   "cell_type": "code",
   "execution_count": 4,
   "id": "736e465e",
   "metadata": {},
   "outputs": [],
   "source": [
    "h, w = 3, 6\n",
    "\n",
    "cliff = GridCliff(h, w)"
   ]
  },
  {
   "cell_type": "code",
   "execution_count": 5,
   "id": "bda1331c",
   "metadata": {},
   "outputs": [
    {
     "name": "stderr",
     "output_type": "stream",
     "text": [
      "/tmp/ipykernel_152/1607538136.py:22: TqdmDeprecationWarning: This function will be removed in tqdm==5.0.0\n",
      "Please use `tqdm.notebook.tqdm` instead of `tqdm.tqdm_notebook`\n",
      "  for ep in tqdm(range(num_episodes)):\n"
     ]
    },
    {
     "data": {
      "application/vnd.jupyter.widget-view+json": {
       "model_id": "f368db389d8d4898ac2eb3fe1f95bc63",
       "version_major": 2,
       "version_minor": 0
      },
      "text/plain": [
       "  0%|          | 0/20000 [00:00<?, ?it/s]"
      ]
     },
     "metadata": {},
     "output_type": "display_data"
    }
   ],
   "source": [
    "Q_out = sarsa(cliff, ϵ=0.1, α=0.1, γ=1.0, num_episodes=20000, max_steps=1000)"
   ]
  },
  {
   "cell_type": "code",
   "execution_count": 6,
   "id": "2727e29d",
   "metadata": {},
   "outputs": [
    {
     "name": "stdout",
     "output_type": "stream",
     "text": [
      "[[ -8.86  -7.91  -6.8   -5.72  -4.56  -3.32]\n",
      " [ -8.14  -7.17  -6.04  -4.64  -3.48  -2.13]\n",
      " [ -9.51  -8.17  -7.08  -6.16  -2.3   -1.  ]\n",
      " [-10.9     nan    nan    nan    nan   0.  ]]\n"
     ]
    }
   ],
   "source": [
    "π_greedy = np.ones((cliff.num_states, cliff.num_actions))\n",
    "for s in cliff.states:\n",
    "    π_greedy[s] = np.eye(cliff.num_actions)[Q_out[s, :].argmax()] \n",
    "    \n",
    "π_2d = np.ones((h+1, w, 4))\n",
    "for s in (cliff.states + cliff.cliff):\n",
    "    s_coord = cliff.state_coordinates(s)\n",
    "    π_2d[s_coord[0], s_coord[1], :] = π_greedy[s]\n",
    "for s in cliff.cliff:\n",
    "    s_coord = cliff.state_coordinates(s)\n",
    "    π_2d[s_coord[0], s_coord[1], :] = np.nan\n",
    "\n",
    "V_out = np.ones((h+1, w))\n",
    "for s in (cliff.states + cliff.cliff):\n",
    "    s_coord = cliff.state_coordinates(s)\n",
    "    V_out[s_coord] = (π_greedy*Q_out).sum(axis=-1)[s]\n",
    "    \n",
    "print(V_out.round(decimals=2))"
   ]
  },
  {
   "cell_type": "code",
   "execution_count": 7,
   "id": "033b100b",
   "metadata": {},
   "outputs": [
    {
     "data": {
      "text/plain": [
       "<matplotlib.image.AxesImage at 0x7f0c76e08c70>"
      ]
     },
     "execution_count": 7,
     "metadata": {},
     "output_type": "execute_result"
    },
    {
     "data": {
      "image/png": "[encoded data removed]",
      "text/plain": [
       "<Figure size 432x288 with 1 Axes>"
      ]
     },
     "metadata": {
      "needs_background": "light"
     },
     "output_type": "display_data"
    }
   ],
   "source": [
    "plt.imshow(V_out)"
   ]
  },
  {
   "cell_type": "code",
   "execution_count": 8,
   "id": "c6636524",
   "metadata": {},
   "outputs": [
    {
     "name": "stdout",
     "output_type": "stream",
     "text": [
      "up\n"
     ]
    },
    {
     "data": {
      "text/plain": [
       "<matplotlib.image.AxesImage at 0x7f0c74d03b50>"
      ]
     },
     "execution_count": 8,
     "metadata": {},
     "output_type": "execute_result"
    },
    {
     "data": {
      "image/png": "[encoded data removed]",
      "text/plain": [
       "<Figure size 432x288 with 1 Axes>"
      ]
     },
     "metadata": {
      "needs_background": "light"
     },
     "output_type": "display_data"
    }
   ],
   "source": [
    "print('up')\n",
    "plt.imshow(π_2d[:,:,0])"
   ]
  },
  {
   "cell_type": "code",
   "execution_count": 9,
   "id": "7ac983a1",
   "metadata": {},
   "outputs": [
    {
     "name": "stdout",
     "output_type": "stream",
     "text": [
      "down\n"
     ]
    },
    {
     "data": {
      "text/plain": [
       "<matplotlib.image.AxesImage at 0x7f0c74c70d60>"
      ]
     },
     "execution_count": 9,
     "metadata": {},
     "output_type": "execute_result"
    },
    {
     "data": {
      "image/png": "[encoded data removed]",
      "text/plain": [
       "<Figure size 432x288 with 1 Axes>"
      ]
     },
     "metadata": {
      "needs_background": "light"
     },
     "output_type": "display_data"
    }
   ],
   "source": [
    "print('down')\n",
    "plt.imshow(π_2d[:,:,1])"
   ]
  },
  {
   "cell_type": "code",
   "execution_count": 10,
   "id": "7c37d3bc",
   "metadata": {},
   "outputs": [
    {
     "name": "stdout",
     "output_type": "stream",
     "text": [
      "left\n"
     ]
    },
    {
     "data": {
      "text/plain": [
       "<matplotlib.image.AxesImage at 0x7f0c74be0130>"
      ]
     },
     "execution_count": 10,
     "metadata": {},
     "output_type": "execute_result"
    },
    {
     "data": {
      "image/png": "[encoded data removed]",
      "text/plain": [
       "<Figure size 432x288 with 1 Axes>"
      ]
     },
     "metadata": {
      "needs_background": "light"
     },
     "output_type": "display_data"
    }
   ],
   "source": [
    "print('left')\n",
    "plt.imshow(π_2d[:,:,2])"
   ]
  },
  {
   "cell_type": "code",
   "execution_count": 11,
   "id": "508f40bd",
   "metadata": {},
   "outputs": [
    {
     "name": "stdout",
     "output_type": "stream",
     "text": [
      "right\n"
     ]
    },
    {
     "data": {
      "text/plain": [
       "<matplotlib.image.AxesImage at 0x7f0c74bb18b0>"
      ]
     },
     "execution_count": 11,
     "metadata": {},
     "output_type": "execute_result"
    },
    {
     "data": {
      "image/png": "[encoded data removed]",
      "text/plain": [
       "<Figure size 432x288 with 1 Axes>"
      ]
     },
     "metadata": {
      "needs_background": "light"
     },
     "output_type": "display_data"
    }
   ],
   "source": [
    "print('right')\n",
    "plt.imshow(π_2d[:,:,3])"
   ]
  },
  {
   "cell_type": "code",
   "execution_count": 12,
   "id": "225d5dd4",
   "metadata": {},
   "outputs": [
    {
     "name": "stdout",
     "output_type": "stream",
     "text": [
      "\n",
      " → → → → → ↓\n",
      " → → → → → ↓\n",
      " ↑ ↑ ↑ ↑ → ↓\n",
      " ↑         ↑\n",
      "\n"
     ]
    }
   ],
   "source": [
    "actions = ''\n",
    "pi_str = ''\n",
    "for s in range(h*w+w):\n",
    "    if s % w == 0:\n",
    "        pi_str += actions + '\\n'\n",
    "        actions = ''\n",
    "    if s in cliff.cliff:\n",
    "        actions += '  '\n",
    "    else:\n",
    "        actions += ' ' + ['↑', '↓', '←', '→'][π_greedy[s].argmax()]\n",
    "pi_str += actions + '\\n'\n",
    "\n",
    "print(pi_str)"
   ]
  },
  {
   "cell_type": "code",
   "execution_count": null,
   "id": "b021b7d3",
   "metadata": {},
   "outputs": [],
   "source": []
  }
 ],
 "metadata": {
  "kernelspec": {
   "display_name": "Python 3 (ipykernel)",
   "language": "python",
   "name": "python3"
  },
  "language_info": {
   "codemirror_mode": {
    "name": "ipython",
    "version": 3
   },
   "file_extension": ".py",
   "mimetype": "text/x-python",
   "name": "python",
   "nbconvert_exporter": "python",
   "pygments_lexer": "ipython3",
   "version": "3.8.10"
  }
 },
 "nbformat": 4,
 "nbformat_minor": 5
}
