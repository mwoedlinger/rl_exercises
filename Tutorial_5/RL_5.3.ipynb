{
 "cells": [
  {
   "cell_type": "markdown",
   "id": "d91a22a5",
   "metadata": {},
   "source": [
    "### TD/TAB/Qlearning – Tabular 𝑄-learning (programming)."
   ]
  },
  {
   "cell_type": "markdown",
   "id": "f09a7f86",
   "metadata": {},
   "source": [
    "Implement 𝑄-learning for estimating 𝜋 ≈ 𝜋∗ and use it to estimate 𝜋∗\n",
    "for cliff walking in Exercise gw/cliff."
   ]
  },
  {
   "cell_type": "code",
   "execution_count": 3,
   "id": "281897a5",
   "metadata": {},
   "outputs": [],
   "source": [
    "import numpy as np\n",
    "from matplotlib import pyplot as plt\n",
    "from random import choice, random, randint\n",
    "from tqdm import tqdm_notebook as tqdm"
   ]
  },
  {
   "cell_type": "code",
   "execution_count": 4,
   "id": "2db272c2",
   "metadata": {},
   "outputs": [],
   "source": [
    "class GridCliff:\n",
    "    \n",
    "    def __init__(self, h, w):\n",
    "        self.w = w\n",
    "        self.h = h\n",
    "        \n",
    "        self.actions = [0, 1, 2, 3] #up, down, left, right\n",
    "        \n",
    "        self.start = h*w\n",
    "        self.goal = (h+1)*w-1\n",
    "        \n",
    "        self.terminal = [self.goal]\n",
    "        self.states = [s for s in range(h*w)] + [self.start, self.goal]\n",
    "        self.cliff = [s for s in range(self.start+1, self.goal)]\n",
    "        \n",
    "        self.num_states = h*w + w\n",
    "        self.num_actions = len(self.actions)\n",
    "        \n",
    "        #### state numbering ####\n",
    "        # 0  1  2  3  4  5 \n",
    "        # 6  7  8  9  10 11\n",
    "        # 12 13 14 15 16 17\n",
    "        # 18 #  #  #  #  23\n",
    "        \n",
    "        # 18 and 23 are the final states\n",
    "        #### state numbering ####\n",
    "        \n",
    "    def state_coordinates(self, s):\n",
    "        return (s // self.w, s % self.w)\n",
    "        \n",
    "    def step(self, s, a):\n",
    "        assert s in (self.states + [self.start, self.goal]), f'{s=} not valid.'\n",
    "        \n",
    "        if s in self.terminal:\n",
    "            return s, 0\n",
    "        \n",
    "        action_values = [-self.w, +self.w, -1, +1]\n",
    "        sprime = s + action_values[a]\n",
    "        \n",
    "        if sprime in self.cliff:\n",
    "            return self.start, -100\n",
    "        elif (s // self.w) != (sprime // self.w) and a > 1: # out horizontally\n",
    "            return s, -1\n",
    "        elif sprime not in self.states: # out vertically\n",
    "            return s, -1\n",
    "        else:\n",
    "            return sprime, -1"
   ]
  },
  {
   "cell_type": "code",
   "execution_count": 5,
   "id": "a17f72ab",
   "metadata": {},
   "outputs": [],
   "source": [
    "class GridCliff:\n",
    "    \n",
    "    def __init__(self, h, w):\n",
    "        self.w = w\n",
    "        self.h = h\n",
    "        \n",
    "        self.actions = [0, 1, 2, 3] #up, down, left, right\n",
    "        \n",
    "        self.start = w-1\n",
    "        self.goal = 0\n",
    "        \n",
    "        self.terminal = [self.goal]\n",
    "        self.states = [s for s in range(w, h*w)] + [self.start, self.goal]\n",
    "        self.cliff = [s for s in range(self.goal+1, self.start)]\n",
    "        \n",
    "        self.num_states = h*w\n",
    "        self.num_actions = len(self.actions)\n",
    "        \n",
    "        #### state numbering ####\n",
    "        # 0  #  #  #  #  5 \n",
    "        # 6  7  8  9  10 11\n",
    "        # 12 13 14 15 16 17\n",
    "        # 18 19 20 21 22 23\n",
    "        \n",
    "        # 0 is the final state\n",
    "        #### state numbering ####\n",
    "        \n",
    "    def state_coordinates(self, s):\n",
    "        return (s // self.w, s % self.w)\n",
    "        \n",
    "    def step(self, s, a):\n",
    "        assert s in (self.states + [self.start, self.goal]), f'{s=} not valid.'\n",
    "        \n",
    "        if s in self.terminal:\n",
    "            return s, 0\n",
    "        \n",
    "        action_values = [-self.w, +self.w, -1, +1]\n",
    "        sprime = s + action_values[a]\n",
    "        \n",
    "        if sprime in self.cliff:\n",
    "            return self.start, -100\n",
    "        elif (s // self.w) != (sprime // self.w) and a > 1: # out horizontally\n",
    "            return s, -1\n",
    "        elif sprime not in self.states: # out vertically\n",
    "            return s, -1\n",
    "        else:\n",
    "            return sprime, -1\n",
    "        \n",
    "def get_GT(grid):\n",
    "    w = grid.w\n",
    "    h = grid.h\n",
    "    \n",
    "    v = np.zeros((h, w))\n",
    "    v_states = np.zeros(h*w)\n",
    "    \n",
    "    for x in range(w):\n",
    "        for y in range(h):\n",
    "            v[y, x] = x + y\n",
    "            v_states[y*w + x] = x + y\n",
    "    for x in range(w):\n",
    "        v[0, x] = np.nan\n",
    "        v_states[x] = np.nan\n",
    "            \n",
    "    v[0, 0] = 0\n",
    "    v_states[0] = 0\n",
    "    v[0, w-1] = w+1\n",
    "    v_states[w-1] = w+1\n",
    "            \n",
    "    return -v, -v_states"
   ]
  },
  {
   "cell_type": "code",
   "execution_count": 41,
   "id": "b1d189b1",
   "metadata": {},
   "outputs": [
    {
     "name": "stdout",
     "output_type": "stream",
     "text": [
      "ERROR! Session/line number was not unique in database. History logging moved to new session 247\n"
     ]
    }
   ],
   "source": [
    "def features(s, grid):\n",
    "    t_coords = grid.state_coordinates(grid.terminal[0])\n",
    "    s_coords = grid.state_coordinates(s)\n",
    "    \n",
    "    dist = np.sqrt(((np.array(t_coords) - np.array(s_coords))**2).sum())\n",
    "    x = s_coords# + (dist,)\n",
    "    \n",
    "    return np.array(x)\n",
    "\n",
    "def LSTD(grid, feature, π, γ=0.99, ϵ=0.01, episodes=1000, max_steps=1000):\n",
    "    dim = len(feature(0, grid))\n",
    "    \n",
    "    A_inv = np.eye(dim)/ϵ\n",
    "    b = np.zeros(dim)\n",
    "    w = A_inv @ b\n",
    "    mse_list = []\n",
    "    \n",
    "    for ep in tqdm(range(episodes)):\n",
    "        S = choice(grid.states)\n",
    "        x = feature(S, grid)\n",
    "        \n",
    "        for step in range(max_steps):\n",
    "            A = np.random.choice(grid.actions, p=π[S])\n",
    "            S_prime, R = grid.step(S, A)\n",
    "\n",
    "            x_prime = feature(S_prime, grid)\n",
    "\n",
    "            v = A_inv.transpose() @ (x - γ*x_prime)\n",
    "            A_inv = A_inv - np.outer((A_inv @ x), v) / (1 + v.dot(x))\n",
    "            b = b + R*x\n",
    "            w = A_inv @ b\n",
    "            \n",
    "            if S_prime in grid.terminal:\n",
    "                break\n",
    "            else:\n",
    "                S, x = S_prime, x_prime\n",
    "        else:\n",
    "            print('could not find s prime')\n",
    "            \n",
    "        # mse for evaluation\n",
    "        v_pred = np.zeros(grid.num_states)\n",
    "        for s in grid.states:\n",
    "            v_pred[s] = w @ feature(s, grid)\n",
    "        mse_list.append(compute_mse(v_pred, grid))\n",
    "                \n",
    "    return w, mse_list\n",
    "\n",
    "def LSTD_stepwise(grid, feature, π, γ=0.99, ϵ=0.01, step_size=100, episodes=1000, max_steps=1000):\n",
    "    dim = len(feature(0, grid))\n",
    "    \n",
    "    A_inv = np.eye(dim)/ϵ\n",
    "    b = np.zeros(dim)\n",
    "    w = A_inv @ b\n",
    "    mse_list = []\n",
    "    \n",
    "    counter = 0\n",
    "    \n",
    "    for ep in tqdm(range(episodes)):\n",
    "        S = choice(grid.states)\n",
    "        x = feature(S, grid)\n",
    "        \n",
    "        for step in range(max_steps):\n",
    "            counter += 1\n",
    "            A = np.random.choice(grid.actions, p=π[S])\n",
    "            S_prime, R = grid.step(S, A)\n",
    "\n",
    "            x_prime = feature(S_prime, grid)\n",
    "\n",
    "            v = A_inv.transpose() @ (x - γ*x_prime)\n",
    "            A_inv = A_inv - np.outer((A_inv @ x), v) / (1 + v.dot(x))\n",
    "            b = b + R*x\n",
    "            \n",
    "            if S_prime in grid.terminal:\n",
    "                break\n",
    "            else:\n",
    "                S, x = S_prime, x_prime\n",
    "                \n",
    "        if counter % step_size == 0:\n",
    "            w = A_inv @ b\n",
    "            \n",
    "        # mse for evaluation\n",
    "        v_pred = np.zeros(grid.num_states)\n",
    "        for s in grid.states:\n",
    "            v_pred[s] = w @ feature(s, grid)\n",
    "        mse_list.append(compute_mse(v_pred, grid))\n",
    "            \n",
    "                \n",
    "    return w, mse_list\n",
    "\n",
    "def TD_prediction(grid, π, γ=0.99, α=0.01, episodes=1000, max_steps=1000):\n",
    "    V = np.random.random(grid.num_states)\n",
    "    for s in grid.terminal:\n",
    "        V[s] = 0.0\n",
    "    \n",
    "    for ep in tqdm(range(episodes)):\n",
    "        S = choice(grid.states)\n",
    "\n",
    "        for step in range(max_steps):\n",
    "            A = np.random.choice(grid.actions, p=π[S])\n",
    "            S_prime, R = grid.step(S, A)\n",
    "            \n",
    "            V[S] = V[S] + α*(R + γ*V[S_prime] - V[S])\n",
    "            \n",
    "            if S_prime in grid.terminal:\n",
    "                break\n",
    "            else:\n",
    "                S = S_prime\n",
    "                \n",
    "    return V"
   ]
  },
  {
   "cell_type": "code",
   "execution_count": 42,
   "id": "21979cb9",
   "metadata": {},
   "outputs": [],
   "source": [
    "def compute_mse(v, grid):\n",
    "    v_gt = get_GT(grid)[1]\n",
    "    \n",
    "    # ignore cliff states\n",
    "    sum_of_squared_diffs = 0\n",
    "    for s in grid.states:\n",
    "        sum_of_squared_diffs += (v[s] - v_gt[s])**2\n",
    "    \n",
    "    return sum_of_squared_diffs.mean()"
   ]
  },
  {
   "cell_type": "code",
   "execution_count": 43,
   "id": "ce97495d",
   "metadata": {},
   "outputs": [
    {
     "name": "stdout",
     "output_type": "stream",
     "text": [
      "[[-0. nan nan nan nan -7.]\n",
      " [-1. -2. -3. -4. -5. -6.]\n",
      " [-2. -3. -4. -5. -6. -7.]\n",
      " [-3. -4. -5. -6. -7. -8.]]\n"
     ]
    }
   ],
   "source": [
    "h, w = 4, 6\n",
    "\n",
    "g = GridCliff(h, w)\n",
    "\n",
    "print(get_GT(g)[0])"
   ]
  },
  {
   "cell_type": "code",
   "execution_count": 44,
   "id": "969c8025",
   "metadata": {},
   "outputs": [],
   "source": [
    "π_GT = np.zeros((g.num_states, g.num_actions), dtype=np.double)\n",
    "\n",
    "π_GT[:] = (1,0,0,0)\n",
    "π_GT[w-1] = (0,1,0,0)\n",
    "for x in range(w):\n",
    "    if x == 0:\n",
    "        π_GT[w + x] = (1,0,0,0)\n",
    "    else:\n",
    "        π_GT[w + x] = (0,0,1,0)"
   ]
  },
  {
   "cell_type": "code",
   "execution_count": 68,
   "id": "85a6059e",
   "metadata": {},
   "outputs": [
    {
     "name": "stderr",
     "output_type": "stream",
     "text": [
      "/tmp/ipykernel_240/2850063505.py:58: TqdmDeprecationWarning: This function will be removed in tqdm==5.0.0\n",
      "Please use `tqdm.notebook.tqdm` instead of `tqdm.tqdm_notebook`\n",
      "  for ep in tqdm(range(episodes)):\n"
     ]
    },
    {
     "data": {
      "application/vnd.jupyter.widget-view+json": {
       "model_id": "9a83d80829a84deaaadb7d7e311e18e6",
       "version_major": 2,
       "version_minor": 0
      },
      "text/plain": [
       "  0%|          | 0/500 [00:00<?, ?it/s]"
      ]
     },
     "metadata": {},
     "output_type": "display_data"
    },
    {
     "name": "stderr",
     "output_type": "stream",
     "text": [
      "/tmp/ipykernel_240/2850063505.py:18: TqdmDeprecationWarning: This function will be removed in tqdm==5.0.0\n",
      "Please use `tqdm.notebook.tqdm` instead of `tqdm.tqdm_notebook`\n",
      "  for ep in tqdm(range(episodes)):\n"
     ]
    },
    {
     "data": {
      "application/vnd.jupyter.widget-view+json": {
       "model_id": "e8df1def133e4493a2ca5e699f7a71cf",
       "version_major": 2,
       "version_minor": 0
      },
      "text/plain": [
       "  0%|          | 0/500 [00:00<?, ?it/s]"
      ]
     },
     "metadata": {},
     "output_type": "display_data"
    },
    {
     "name": "stderr",
     "output_type": "stream",
     "text": [
      "/tmp/ipykernel_240/2850063505.py:95: TqdmDeprecationWarning: This function will be removed in tqdm==5.0.0\n",
      "Please use `tqdm.notebook.tqdm` instead of `tqdm.tqdm_notebook`\n",
      "  for ep in tqdm(range(episodes)):\n"
     ]
    },
    {
     "data": {
      "application/vnd.jupyter.widget-view+json": {
       "model_id": "541a81c4481145019badb55303616d3e",
       "version_major": 2,
       "version_minor": 0
      },
      "text/plain": [
       "  0%|          | 0/500 [00:00<?, ?it/s]"
      ]
     },
     "metadata": {},
     "output_type": "display_data"
    }
   ],
   "source": [
    "# π = np.random.random((g.num_states, g.num_actions))\n",
    "# π = π/π.sum(axis=1, keepdims=True)\n",
    "π = π_GT\n",
    "\n",
    "w_pred_step, mse_list_step = LSTD_stepwise(g, features, π, γ=1.0, ϵ=0.01, episodes=500)\n",
    "w_pred, mse_list = LSTD(g, features, π, γ=1.0, ϵ=0.01, episodes=500)\n",
    "v_pred_td = TD_prediction(g, π, γ=1.0, α=0.01, episodes=500)\n",
    "\n",
    "v_pred = np.zeros(g.num_states)\n",
    "v_pred_step = np.zeros(g.num_states)\n",
    "\n",
    "for s in g.states:\n",
    "    v_pred[s] = w_pred @ features(s, g)\n",
    "    v_pred_step[s] = w_pred_step @ features(s, g)"
   ]
  },
  {
   "cell_type": "code",
   "execution_count": 69,
   "id": "5bb770c8",
   "metadata": {},
   "outputs": [
    {
     "name": "stdout",
     "output_type": "stream",
     "text": [
      "[[ 0.   nan  nan  nan  nan -5.6]\n",
      " [-0.9 -2.  -3.2 -4.3 -5.4 -6.5]\n",
      " [-1.8 -2.9 -4.1 -5.2 -6.3 -7.4]\n",
      " [-2.7 -3.8 -5.  -6.1 -7.2 -8.3]]\n",
      "mse = 3.07\n"
     ]
    },
    {
     "data": {
      "image/png": "[encoded data removed]",
      "text/plain": [
       "<Figure size 432x288 with 1 Axes>"
      ]
     },
     "metadata": {
      "needs_background": "light"
     },
     "output_type": "display_data"
    }
   ],
   "source": [
    "#v_pred.round(decimals=3)\n",
    "v_pred_coord = np.zeros((h, w))\n",
    "\n",
    "for s in (g.states + g.cliff):\n",
    "    y, x = g.state_coordinates(s)\n",
    "    \n",
    "    if s in g.cliff:\n",
    "        v_pred_coord[y, x] = np.nan\n",
    "    else:\n",
    "        v_pred_coord[y, x] = v_pred[s]\n",
    "        \n",
    "print(v_pred_coord.round(decimals=1))\n",
    "plt.imshow(v_pred_coord)\n",
    "print(f'mse = {compute_mse(v_pred, g):.3}')"
   ]
  },
  {
   "cell_type": "code",
   "execution_count": 70,
   "id": "3b35fd60",
   "metadata": {},
   "outputs": [
    {
     "name": "stdout",
     "output_type": "stream",
     "text": [
      "[[ 0.   nan  nan  nan  nan -5.4]\n",
      " [-0.9 -2.  -3.1 -4.2 -5.3 -6.3]\n",
      " [-1.9 -3.  -4.  -5.1 -6.2 -7.3]\n",
      " [-2.8 -3.9 -5.  -6.1 -7.1 -8.2]]\n",
      "mse = 3.07\n"
     ]
    },
    {
     "data": {
      "image/png": "[encoded data removed]",
      "text/plain": [
       "<Figure size 432x288 with 1 Axes>"
      ]
     },
     "metadata": {
      "needs_background": "light"
     },
     "output_type": "display_data"
    }
   ],
   "source": [
    "# v_pred_step.round(decimals=3)\n",
    "v_pred_coord_step = np.zeros((h, w))\n",
    "\n",
    "for s in (g.states + g.cliff):\n",
    "    y, x = g.state_coordinates(s)\n",
    "    \n",
    "    if s in g.cliff:\n",
    "        v_pred_coord_step[y, x] = np.nan\n",
    "    else:\n",
    "        v_pred_coord_step[y, x] = v_pred_step[s]\n",
    "print(v_pred_coord_step.round(decimals=1))\n",
    "plt.imshow(v_pred_coord_step)\n",
    "print(f'mse = {compute_mse(v_pred_step, g):.3}')"
   ]
  },
  {
   "cell_type": "markdown",
   "id": "8d139133",
   "metadata": {},
   "source": [
    "TD learning looks worse here but contrary to the other two methods it actually converges towards the true value function after a while."
   ]
  },
  {
   "cell_type": "code",
   "execution_count": 71,
   "id": "a6fc5f9a",
   "metadata": {},
   "outputs": [
    {
     "name": "stdout",
     "output_type": "stream",
     "text": [
      "[[ 0.   nan  nan  nan  nan -0.1]\n",
      " [-1.  -1.8 -2.4 -2.3 -1.6 -0.9]\n",
      " [-0.2 -0.6 -0.3 -0.7 -0.4 -0.3]\n",
      " [ 0.4  0.3  0.7 -0.2  0.1 -0.1]]\n",
      "mse = 4.14e+02\n"
     ]
    },
    {
     "data": {
      "image/png": "[encoded data removed]",
      "text/plain": [
       "<Figure size 432x288 with 1 Axes>"
      ]
     },
     "metadata": {
      "needs_background": "light"
     },
     "output_type": "display_data"
    }
   ],
   "source": [
    "# v_pred_td.round(decimals=3)\n",
    "v_pred_coord_td = np.zeros((h, w))\n",
    "\n",
    "for s in (g.states + g.cliff):\n",
    "    y, x = g.state_coordinates(s)\n",
    "    \n",
    "    if s in g.cliff:\n",
    "        v_pred_coord_td[y, x] = np.nan\n",
    "    else:\n",
    "        v_pred_coord_td[y, x] = v_pred_td[s]\n",
    "print(v_pred_coord_td.round(decimals=1))\n",
    "plt.imshow(v_pred_coord_td)\n",
    "print(f'mse = {compute_mse(v_pred_td, g):.3}')"
   ]
  },
  {
   "cell_type": "markdown",
   "id": "105f4ddd",
   "metadata": {},
   "source": [
    "The step wise version has a lower variance"
   ]
  },
  {
   "cell_type": "code",
   "execution_count": 72,
   "id": "24b09f96",
   "metadata": {},
   "outputs": [
    {
     "data": {
      "text/plain": [
       "[<matplotlib.lines.Line2D at 0x7fd3df845d60>]"
      ]
     },
     "execution_count": 72,
     "metadata": {},
     "output_type": "execute_result"
    },
    {
     "data": {
      "image/png": "[encoded data removed]",
      "text/plain": [
       "<Figure size 432x288 with 1 Axes>"
      ]
     },
     "metadata": {
      "needs_background": "light"
     },
     "output_type": "display_data"
    }
   ],
   "source": [
    "plt.plot(mse_list_step)"
   ]
  },
  {
   "cell_type": "code",
   "execution_count": 73,
   "id": "7a7d1ecc",
   "metadata": {},
   "outputs": [
    {
     "data": {
      "text/plain": [
       "[<matplotlib.lines.Line2D at 0x7fd3df96c250>]"
      ]
     },
     "execution_count": 73,
     "metadata": {},
     "output_type": "execute_result"
    },
    {
     "data": {
      "image/png": "[encoded data removed]",
      "text/plain": [
       "<Figure size 432x288 with 1 Axes>"
      ]
     },
     "metadata": {
      "needs_background": "light"
     },
     "output_type": "display_data"
    }
   ],
   "source": [
    "plt.plot(mse_list)"
   ]
  },
  {
   "cell_type": "code",
   "execution_count": null,
   "id": "7918f034",
   "metadata": {},
   "outputs": [],
   "source": []
  },
  {
   "cell_type": "code",
   "execution_count": null,
   "id": "d64ec7b0",
   "metadata": {},
   "outputs": [],
   "source": []
  },
  {
   "cell_type": "markdown",
   "id": "76215805",
   "metadata": {},
   "source": [
    "In the following experiment the cliff is removed. This results in an easier problem with a linear value function (=> the value function can be learned exactly). Notice the fast convergence. This demonstrates the importance of using the right type of features."
   ]
  },
  {
   "cell_type": "code",
   "execution_count": 103,
   "id": "21c18c66",
   "metadata": {},
   "outputs": [
    {
     "name": "stdout",
     "output_type": "stream",
     "text": [
      "[[-0. nan nan nan nan -7.]\n",
      " [-1. -2. -3. -4. -5. -6.]\n",
      " [-2. -3. -4. -5. -6. -7.]\n",
      " [-3. -4. -5. -6. -7. -8.]]\n"
     ]
    }
   ],
   "source": [
    "h, w = 4, 6\n",
    "\n",
    "g = GridCliff(h, w)\n",
    "g.states = [n for n in range(h*w)]\n",
    "g.cliff = []\n",
    "g.start = w*h - 1\n",
    "\n",
    "print(get_GT(g))"
   ]
  },
  {
   "cell_type": "code",
   "execution_count": 104,
   "id": "cd96fd49",
   "metadata": {},
   "outputs": [],
   "source": [
    "π_GT = np.zeros((g.num_states, g.num_actions), dtype=np.double)\n",
    "\n",
    "for s in g.states:\n",
    "    y, x = g.state_coordinates(s)\n",
    "    if x == 0:\n",
    "        π_GT[s] = (1, 0, 0, 0)\n",
    "    else:\n",
    "        π_GT[s] = (0, 0, 1, 0)"
   ]
  },
  {
   "cell_type": "code",
   "execution_count": 110,
   "id": "e46ff5e9",
   "metadata": {},
   "outputs": [
    {
     "name": "stderr",
     "output_type": "stream",
     "text": [
      "/tmp/ipykernel_204/1733203627.py:50: TqdmDeprecationWarning: This function will be removed in tqdm==5.0.0\n",
      "Please use `tqdm.notebook.tqdm` instead of `tqdm.tqdm_notebook`\n",
      "  for ep in tqdm(range(episodes)):\n"
     ]
    },
    {
     "data": {
      "application/vnd.jupyter.widget-view+json": {
       "model_id": "6cf468a369154faba807df8f6e1e1f78",
       "version_major": 2,
       "version_minor": 0
      },
      "text/plain": [
       "  0%|          | 0/100 [00:00<?, ?it/s]"
      ]
     },
     "metadata": {},
     "output_type": "display_data"
    },
    {
     "name": "stderr",
     "output_type": "stream",
     "text": [
      "/tmp/ipykernel_204/1733203627.py:17: TqdmDeprecationWarning: This function will be removed in tqdm==5.0.0\n",
      "Please use `tqdm.notebook.tqdm` instead of `tqdm.tqdm_notebook`\n",
      "  for ep in tqdm(range(episodes)):\n"
     ]
    },
    {
     "data": {
      "application/vnd.jupyter.widget-view+json": {
       "model_id": "c09e3aa621f64ce18a2f34ed754f2248",
       "version_major": 2,
       "version_minor": 0
      },
      "text/plain": [
       "  0%|          | 0/100 [00:00<?, ?it/s]"
      ]
     },
     "metadata": {},
     "output_type": "display_data"
    },
    {
     "name": "stderr",
     "output_type": "stream",
     "text": [
      "/tmp/ipykernel_204/1733203627.py:81: TqdmDeprecationWarning: This function will be removed in tqdm==5.0.0\n",
      "Please use `tqdm.notebook.tqdm` instead of `tqdm.tqdm_notebook`\n",
      "  for ep in tqdm(range(episodes)):\n"
     ]
    },
    {
     "data": {
      "application/vnd.jupyter.widget-view+json": {
       "model_id": "fbe5d56e87c1445185f137d1d612864a",
       "version_major": 2,
       "version_minor": 0
      },
      "text/plain": [
       "  0%|          | 0/100 [00:00<?, ?it/s]"
      ]
     },
     "metadata": {},
     "output_type": "display_data"
    }
   ],
   "source": [
    "# π = np.random.random((g.num_states, g.num_actions))\n",
    "# π = π/π.sum(axis=1, keepdims=True)\n",
    "π = π_GT\n",
    "\n",
    "w_pred_step = LSTD_stepwise(g, features, π, γ=1.0, ϵ=0.01, episodes=100)\n",
    "w_pred = LSTD(g, features, π, γ=1.0, ϵ=0.01, episodes=100)\n",
    "v_pred_td = TD_prediction(g, π, γ=1.0, α=0.01, episodes=100)\n",
    "\n",
    "v_pred = -100*np.ones(g.num_states)\n",
    "v_pred_step = -100*np.ones(g.num_states)\n",
    "\n",
    "for s in g.states:\n",
    "    v_pred[s] = w_pred @ features(s, g)\n",
    "    v_pred_step[s] = w_pred_step @ features(s, g)"
   ]
  },
  {
   "cell_type": "code",
   "execution_count": 111,
   "id": "b56c6513",
   "metadata": {},
   "outputs": [
    {
     "name": "stdout",
     "output_type": "stream",
     "text": [
      "[[ 0. -1. -2. -3. -4. -5.]\n",
      " [-1. -2. -3. -4. -5. -6.]\n",
      " [-2. -3. -4. -5. -6. -7.]\n",
      " [-3. -4. -5. -6. -7. -8.]]\n"
     ]
    }
   ],
   "source": [
    "#v_pred.round(decimals=3)\n",
    "v_pred_coord = np.zeros((h, w))\n",
    "\n",
    "for s in g.states:\n",
    "    y, x = g.state_coordinates(s)\n",
    "    v_pred_coord[y, x] = v_pred[s]\n",
    "print(v_pred_coord.round(decimals=1))"
   ]
  },
  {
   "cell_type": "code",
   "execution_count": 112,
   "id": "686ad037",
   "metadata": {},
   "outputs": [
    {
     "name": "stdout",
     "output_type": "stream",
     "text": [
      "[[ 0. -1. -2. -3. -4. -5.]\n",
      " [-1. -2. -3. -4. -5. -6.]\n",
      " [-2. -3. -4. -5. -6. -7.]\n",
      " [-3. -4. -5. -6. -7. -8.]]\n"
     ]
    }
   ],
   "source": [
    "# v_pred_step.round(decimals=3)\n",
    "v_pred_coord_step = np.zeros((h, w))\n",
    "\n",
    "for s in g.states:\n",
    "    y, x = g.state_coordinates(s)\n",
    "    v_pred_coord_step[y, x] = v_pred_step[s]\n",
    "print(v_pred_coord_step.round(decimals=1))"
   ]
  },
  {
   "cell_type": "code",
   "execution_count": 113,
   "id": "7e449566",
   "metadata": {},
   "outputs": [
    {
     "name": "stdout",
     "output_type": "stream",
     "text": [
      "[[ 0.   0.4  0.1  0.3  0.5  0.7]\n",
      " [-0.2  0.7  0.4  0.4  0.4  0.2]\n",
      " [-0.3 -0.1 -0.   0.1  0.2  0.8]\n",
      " [-0.3  0.4  0.7  0.6  0.5  0.5]]\n"
     ]
    }
   ],
   "source": [
    "# v_pred_td.round(decimals=3)\n",
    "v_pred_coord_td = np.zeros((h, w))\n",
    "\n",
    "for s in g.states:\n",
    "    y, x = g.state_coordinates(s)\n",
    "    v_pred_coord_td[y, x] = v_pred_td[s]\n",
    "print(v_pred_coord_td.round(decimals=1))"
   ]
  }
 ],
 "metadata": {
  "kernelspec": {
   "display_name": "Python 3 (ipykernel)",
   "language": "python",
   "name": "python3"
  },
  "language_info": {
   "codemirror_mode": {
    "name": "ipython",
    "version": 3
   },
   "file_extension": ".py",
   "mimetype": "text/x-python",
   "name": "python",
   "nbconvert_exporter": "python",
   "pygments_lexer": "ipython3",
   "version": "3.8.10"
  }
 },
 "nbformat": 4,
 "nbformat_minor": 5
}
